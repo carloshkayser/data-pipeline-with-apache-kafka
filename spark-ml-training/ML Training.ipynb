{
 "cells": [
  {
   "cell_type": "code",
   "execution_count": 1,
   "id": "8ebec134-7219-49a4-a268-d28fef31278b",
   "metadata": {
    "execution": {
     "iopub.execute_input": "2022-06-02T16:01:31.789510Z",
     "iopub.status.busy": "2022-06-02T16:01:31.788770Z",
     "iopub.status.idle": "2022-06-02T16:01:32.343004Z",
     "shell.execute_reply": "2022-06-02T16:01:32.341967Z",
     "shell.execute_reply.started": "2022-06-02T16:01:31.789360Z"
    },
    "tags": []
   },
   "outputs": [],
   "source": [
    "import pandas as pd"
   ]
  },
  {
   "cell_type": "code",
   "execution_count": 2,
   "id": "63aff2ab-31b3-415f-9f6f-7a7df78e5c9b",
   "metadata": {
    "execution": {
     "iopub.execute_input": "2022-06-02T16:01:32.345720Z",
     "iopub.status.busy": "2022-06-02T16:01:32.345060Z",
     "iopub.status.idle": "2022-06-02T16:01:38.169027Z",
     "shell.execute_reply": "2022-06-02T16:01:38.167764Z",
     "shell.execute_reply.started": "2022-06-02T16:01:32.345689Z"
    },
    "tags": []
   },
   "outputs": [],
   "source": [
    "file_path = \"../dataset/click-through-rate-prediction/train.gz\"\n",
    "data_df = pd.read_csv(file_path, header=0, nrows=1000000).sample(frac=1)"
   ]
  },
  {
   "cell_type": "code",
   "execution_count": 3,
   "id": "ad007aae-db7e-4bfc-be27-fdec9bbc309b",
   "metadata": {
    "execution": {
     "iopub.execute_input": "2022-06-02T16:01:38.171437Z",
     "iopub.status.busy": "2022-06-02T16:01:38.170966Z",
     "iopub.status.idle": "2022-06-02T16:01:38.176605Z",
     "shell.execute_reply": "2022-06-02T16:01:38.175247Z",
     "shell.execute_reply.started": "2022-06-02T16:01:38.171404Z"
    },
    "tags": []
   },
   "outputs": [],
   "source": [
    "train_count = int(len(data_df) * 0.9)"
   ]
  },
  {
   "cell_type": "code",
   "execution_count": 4,
   "id": "9d0889d8-a181-442d-a0e0-4e3e2952195c",
   "metadata": {
    "execution": {
     "iopub.execute_input": "2022-06-02T16:01:38.179414Z",
     "iopub.status.busy": "2022-06-02T16:01:38.178607Z",
     "iopub.status.idle": "2022-06-02T16:01:38.474658Z",
     "shell.execute_reply": "2022-06-02T16:01:38.473695Z",
     "shell.execute_reply.started": "2022-06-02T16:01:38.179375Z"
    },
    "tags": []
   },
   "outputs": [],
   "source": [
    "X_train = data_df.iloc[:train_count,2:]\n",
    "y_train = data_df.iloc[:train_count,1]"
   ]
  },
  {
   "cell_type": "code",
   "execution_count": 5,
   "id": "5925c6fb-3f01-469d-a907-93f6067c213e",
   "metadata": {
    "execution": {
     "iopub.execute_input": "2022-06-02T16:01:38.478192Z",
     "iopub.status.busy": "2022-06-02T16:01:38.477434Z",
     "iopub.status.idle": "2022-06-02T16:01:38.503965Z",
     "shell.execute_reply": "2022-06-02T16:01:38.501921Z",
     "shell.execute_reply.started": "2022-06-02T16:01:38.478143Z"
    },
    "tags": []
   },
   "outputs": [],
   "source": [
    "X_val = data_df.iloc[train_count:,2:]\n",
    "y_val = data_df.iloc[train_count:,1]"
   ]
  },
  {
   "cell_type": "code",
   "execution_count": 6,
   "id": "d0b50f2d-a81a-4af2-9a9c-581a15e0f8e6",
   "metadata": {
    "execution": {
     "iopub.execute_input": "2022-06-02T16:01:38.507170Z",
     "iopub.status.busy": "2022-06-02T16:01:38.506296Z",
     "iopub.status.idle": "2022-06-02T16:01:38.541414Z",
     "shell.execute_reply": "2022-06-02T16:01:38.540520Z",
     "shell.execute_reply.started": "2022-06-02T16:01:38.507117Z"
    },
    "tags": []
   },
   "outputs": [
    {
     "data": {
      "text/html": [
       "<div>\n",
       "<style scoped>\n",
       "    .dataframe tbody tr th:only-of-type {\n",
       "        vertical-align: middle;\n",
       "    }\n",
       "\n",
       "    .dataframe tbody tr th {\n",
       "        vertical-align: top;\n",
       "    }\n",
       "\n",
       "    .dataframe thead th {\n",
       "        text-align: right;\n",
       "    }\n",
       "</style>\n",
       "<table border=\"1\" class=\"dataframe\">\n",
       "  <thead>\n",
       "    <tr style=\"text-align: right;\">\n",
       "      <th></th>\n",
       "      <th>hour</th>\n",
       "      <th>C1</th>\n",
       "      <th>banner_pos</th>\n",
       "      <th>site_id</th>\n",
       "      <th>site_domain</th>\n",
       "      <th>site_category</th>\n",
       "      <th>app_id</th>\n",
       "      <th>app_domain</th>\n",
       "      <th>app_category</th>\n",
       "      <th>device_id</th>\n",
       "      <th>...</th>\n",
       "      <th>device_type</th>\n",
       "      <th>device_conn_type</th>\n",
       "      <th>C14</th>\n",
       "      <th>C15</th>\n",
       "      <th>C16</th>\n",
       "      <th>C17</th>\n",
       "      <th>C18</th>\n",
       "      <th>C19</th>\n",
       "      <th>C20</th>\n",
       "      <th>C21</th>\n",
       "    </tr>\n",
       "  </thead>\n",
       "  <tbody>\n",
       "    <tr>\n",
       "      <th>639726</th>\n",
       "      <td>14102103</td>\n",
       "      <td>1005</td>\n",
       "      <td>0</td>\n",
       "      <td>6399eda6</td>\n",
       "      <td>968765cd</td>\n",
       "      <td>f028772b</td>\n",
       "      <td>ecad2386</td>\n",
       "      <td>7801e8d9</td>\n",
       "      <td>07d7df22</td>\n",
       "      <td>a99f214a</td>\n",
       "      <td>...</td>\n",
       "      <td>1</td>\n",
       "      <td>0</td>\n",
       "      <td>19251</td>\n",
       "      <td>320</td>\n",
       "      <td>50</td>\n",
       "      <td>2201</td>\n",
       "      <td>3</td>\n",
       "      <td>35</td>\n",
       "      <td>100221</td>\n",
       "      <td>43</td>\n",
       "    </tr>\n",
       "    <tr>\n",
       "      <th>967064</th>\n",
       "      <td>14102105</td>\n",
       "      <td>1005</td>\n",
       "      <td>0</td>\n",
       "      <td>85f751fd</td>\n",
       "      <td>c4e18dd6</td>\n",
       "      <td>50e219e0</td>\n",
       "      <td>0885a933</td>\n",
       "      <td>2347f47a</td>\n",
       "      <td>0f2161f8</td>\n",
       "      <td>a99f214a</td>\n",
       "      <td>...</td>\n",
       "      <td>1</td>\n",
       "      <td>2</td>\n",
       "      <td>21667</td>\n",
       "      <td>320</td>\n",
       "      <td>50</td>\n",
       "      <td>2494</td>\n",
       "      <td>3</td>\n",
       "      <td>35</td>\n",
       "      <td>-1</td>\n",
       "      <td>112</td>\n",
       "    </tr>\n",
       "    <tr>\n",
       "      <th>780610</th>\n",
       "      <td>14102104</td>\n",
       "      <td>1005</td>\n",
       "      <td>0</td>\n",
       "      <td>d9750ee7</td>\n",
       "      <td>98572c79</td>\n",
       "      <td>f028772b</td>\n",
       "      <td>ecad2386</td>\n",
       "      <td>7801e8d9</td>\n",
       "      <td>07d7df22</td>\n",
       "      <td>a99f214a</td>\n",
       "      <td>...</td>\n",
       "      <td>1</td>\n",
       "      <td>0</td>\n",
       "      <td>18095</td>\n",
       "      <td>320</td>\n",
       "      <td>50</td>\n",
       "      <td>2060</td>\n",
       "      <td>3</td>\n",
       "      <td>39</td>\n",
       "      <td>100105</td>\n",
       "      <td>23</td>\n",
       "    </tr>\n",
       "    <tr>\n",
       "      <th>238536</th>\n",
       "      <td>14102101</td>\n",
       "      <td>1005</td>\n",
       "      <td>0</td>\n",
       "      <td>1fbe01fe</td>\n",
       "      <td>f3845767</td>\n",
       "      <td>28905ebd</td>\n",
       "      <td>ecad2386</td>\n",
       "      <td>7801e8d9</td>\n",
       "      <td>07d7df22</td>\n",
       "      <td>a99f214a</td>\n",
       "      <td>...</td>\n",
       "      <td>1</td>\n",
       "      <td>0</td>\n",
       "      <td>15704</td>\n",
       "      <td>320</td>\n",
       "      <td>50</td>\n",
       "      <td>1722</td>\n",
       "      <td>0</td>\n",
       "      <td>35</td>\n",
       "      <td>-1</td>\n",
       "      <td>79</td>\n",
       "    </tr>\n",
       "    <tr>\n",
       "      <th>892775</th>\n",
       "      <td>14102104</td>\n",
       "      <td>1005</td>\n",
       "      <td>0</td>\n",
       "      <td>1fbe01fe</td>\n",
       "      <td>f3845767</td>\n",
       "      <td>28905ebd</td>\n",
       "      <td>ecad2386</td>\n",
       "      <td>7801e8d9</td>\n",
       "      <td>07d7df22</td>\n",
       "      <td>a99f214a</td>\n",
       "      <td>...</td>\n",
       "      <td>1</td>\n",
       "      <td>0</td>\n",
       "      <td>15703</td>\n",
       "      <td>320</td>\n",
       "      <td>50</td>\n",
       "      <td>1722</td>\n",
       "      <td>0</td>\n",
       "      <td>35</td>\n",
       "      <td>-1</td>\n",
       "      <td>79</td>\n",
       "    </tr>\n",
       "  </tbody>\n",
       "</table>\n",
       "<p>5 rows × 22 columns</p>\n",
       "</div>"
      ],
      "text/plain": [
       "            hour    C1  banner_pos   site_id site_domain site_category  \\\n",
       "639726  14102103  1005           0  6399eda6    968765cd      f028772b   \n",
       "967064  14102105  1005           0  85f751fd    c4e18dd6      50e219e0   \n",
       "780610  14102104  1005           0  d9750ee7    98572c79      f028772b   \n",
       "238536  14102101  1005           0  1fbe01fe    f3845767      28905ebd   \n",
       "892775  14102104  1005           0  1fbe01fe    f3845767      28905ebd   \n",
       "\n",
       "          app_id app_domain app_category device_id  ... device_type  \\\n",
       "639726  ecad2386   7801e8d9     07d7df22  a99f214a  ...           1   \n",
       "967064  0885a933   2347f47a     0f2161f8  a99f214a  ...           1   \n",
       "780610  ecad2386   7801e8d9     07d7df22  a99f214a  ...           1   \n",
       "238536  ecad2386   7801e8d9     07d7df22  a99f214a  ...           1   \n",
       "892775  ecad2386   7801e8d9     07d7df22  a99f214a  ...           1   \n",
       "\n",
       "       device_conn_type    C14  C15  C16   C17  C18  C19     C20  C21  \n",
       "639726                0  19251  320   50  2201    3   35  100221   43  \n",
       "967064                2  21667  320   50  2494    3   35      -1  112  \n",
       "780610                0  18095  320   50  2060    3   39  100105   23  \n",
       "238536                0  15704  320   50  1722    0   35      -1   79  \n",
       "892775                0  15703  320   50  1722    0   35      -1   79  \n",
       "\n",
       "[5 rows x 22 columns]"
      ]
     },
     "execution_count": 6,
     "metadata": {},
     "output_type": "execute_result"
    }
   ],
   "source": [
    "X_val.head()"
   ]
  },
  {
   "cell_type": "code",
   "execution_count": null,
   "id": "08ab10ad-7f72-4aad-971c-1c9ec24d9475",
   "metadata": {},
   "outputs": [],
   "source": []
  },
  {
   "cell_type": "code",
   "execution_count": 10,
   "id": "b74dab89-b7f3-42d9-9bec-fd5c6a870c8d",
   "metadata": {
    "execution": {
     "iopub.execute_input": "2022-06-02T16:59:42.081289Z",
     "iopub.status.busy": "2022-06-02T16:59:42.080325Z",
     "iopub.status.idle": "2022-06-02T16:59:42.099858Z",
     "shell.execute_reply": "2022-06-02T16:59:42.097350Z",
     "shell.execute_reply.started": "2022-06-02T16:59:42.081208Z"
    }
   },
   "outputs": [
    {
     "data": {
      "text/plain": [
       "Index(['hour', 'C1', 'banner_pos', 'site_id', 'site_domain', 'site_category',\n",
       "       'app_id', 'app_domain', 'app_category', 'device_id', 'device_ip',\n",
       "       'device_model', 'device_type', 'device_conn_type', 'C14', 'C15', 'C16',\n",
       "       'C17', 'C18', 'C19', 'C20', 'C21'],\n",
       "      dtype='object')"
      ]
     },
     "execution_count": 10,
     "metadata": {},
     "output_type": "execute_result"
    }
   ],
   "source": [
    "X_train.columns"
   ]
  },
  {
   "cell_type": "code",
   "execution_count": 9,
   "id": "590ce75c-a72d-4021-8689-7085da139e26",
   "metadata": {
    "execution": {
     "iopub.execute_input": "2022-06-02T16:03:05.259586Z",
     "iopub.status.busy": "2022-06-02T16:03:05.258097Z",
     "iopub.status.idle": "2022-06-02T16:03:05.278479Z",
     "shell.execute_reply": "2022-06-02T16:03:05.277046Z",
     "shell.execute_reply.started": "2022-06-02T16:03:05.259469Z"
    },
    "tags": []
   },
   "outputs": [
    {
     "data": {
      "text/plain": [
       "['hour',\n",
       " 'C1',\n",
       " 'banner_pos',\n",
       " 'site_id',\n",
       " 'site_domain',\n",
       " 'site_category',\n",
       " 'app_id',\n",
       " 'app_domain',\n",
       " 'app_category',\n",
       " 'device_id',\n",
       " 'device_ip',\n",
       " 'device_model',\n",
       " 'device_type',\n",
       " 'device_conn_type',\n",
       " 'C14',\n",
       " 'C15',\n",
       " 'C16',\n",
       " 'C17',\n",
       " 'C18',\n",
       " 'C19',\n",
       " 'C20']"
      ]
     },
     "execution_count": 9,
     "metadata": {},
     "output_type": "execute_result"
    }
   ],
   "source": [
    "X_train.columns[[0, 1, 2, 3, 4, 5, 6, 7, 8, 9, 10, 11, 12, 13, 14, 15, 16, 17, 18, 19, 20]].to_list()"
   ]
  },
  {
   "cell_type": "code",
   "execution_count": null,
   "id": "0283e4d5-3bd9-47c9-8d1a-f7dd21d0a6a0",
   "metadata": {},
   "outputs": [],
   "source": []
  },
  {
   "cell_type": "markdown",
   "id": "2ffd8a7c-301a-4ca1-8cbc-08e2aea49b90",
   "metadata": {},
   "source": [
    "## Model Training"
   ]
  },
  {
   "cell_type": "code",
   "execution_count": null,
   "id": "6d270edd-256e-4275-b837-b2a4ad61f5bb",
   "metadata": {
    "tags": []
   },
   "outputs": [],
   "source": [
    "!pip install catboost"
   ]
  },
  {
   "cell_type": "code",
   "execution_count": 8,
   "id": "532648c1-e57a-4e8f-9fb4-ad985edceeec",
   "metadata": {
    "execution": {
     "iopub.execute_input": "2022-06-01T14:48:04.070540Z",
     "iopub.status.busy": "2022-06-01T14:48:04.069397Z",
     "iopub.status.idle": "2022-06-01T14:48:04.202824Z",
     "shell.execute_reply": "2022-06-01T14:48:04.202239Z",
     "shell.execute_reply.started": "2022-06-01T14:48:04.070505Z"
    },
    "tags": []
   },
   "outputs": [],
   "source": [
    "# source https://www.kaggle.com/code/pointerfly/easy-catboost\n",
    "\n",
    "from catboost import CatBoostClassifier\n",
    "\n",
    "model = CatBoostClassifier(\n",
    "    iterations=50,\n",
    "    learning_rate=0.5,\n",
    "    # task_type='GPU',\n",
    "    loss_function='Logloss',\n",
    "#     gpu_ram_part=0.9,\n",
    "#     boosting_type='Plain',\n",
    "#     max_ctr_complexity=2,\n",
    "#     depth=6,\n",
    "#     gpu_cat_features_storage='CpuPinnedMemory',\n",
    ")"
   ]
  },
  {
   "cell_type": "code",
   "execution_count": 9,
   "id": "7d6dd745-a410-43ac-8ace-0369cdfc5c52",
   "metadata": {
    "execution": {
     "iopub.execute_input": "2022-06-01T14:48:04.203543Z",
     "iopub.status.busy": "2022-06-01T14:48:04.203403Z",
     "iopub.status.idle": "2022-06-01T14:48:36.993776Z",
     "shell.execute_reply": "2022-06-01T14:48:36.992724Z",
     "shell.execute_reply.started": "2022-06-01T14:48:04.203530Z"
    },
    "tags": []
   },
   "outputs": [
    {
     "name": "stdout",
     "output_type": "stream",
     "text": [
      "0:\tlearn: 0.4557959\ttest: 0.4560125\tbest: 0.4560125 (0)\ttotal: 1.07s\tremaining: 52.7s\n",
      "1:\tlearn: 0.4028367\ttest: 0.4027672\tbest: 0.4027672 (1)\ttotal: 1.74s\tremaining: 41.7s\n",
      "2:\tlearn: 0.3909379\ttest: 0.3907888\tbest: 0.3907888 (2)\ttotal: 2.35s\tremaining: 36.9s\n",
      "3:\tlearn: 0.3812163\ttest: 0.3772588\tbest: 0.3772588 (3)\ttotal: 2.9s\tremaining: 33.4s\n",
      "4:\tlearn: 0.3781520\ttest: 0.3725805\tbest: 0.3725805 (4)\ttotal: 3.32s\tremaining: 29.9s\n",
      "5:\tlearn: 0.3767268\ttest: 0.3705149\tbest: 0.3705149 (5)\ttotal: 3.85s\tremaining: 28.2s\n",
      "6:\tlearn: 0.3760746\ttest: 0.3695845\tbest: 0.3695845 (6)\ttotal: 4.39s\tremaining: 27s\n",
      "7:\tlearn: 0.3752779\ttest: 0.3683552\tbest: 0.3683552 (7)\ttotal: 4.88s\tremaining: 25.6s\n",
      "8:\tlearn: 0.3749753\ttest: 0.3679229\tbest: 0.3679229 (8)\ttotal: 5.36s\tremaining: 24.4s\n",
      "9:\tlearn: 0.3746746\ttest: 0.3677107\tbest: 0.3677107 (9)\ttotal: 5.89s\tremaining: 23.6s\n",
      "10:\tlearn: 0.3743297\ttest: 0.3673186\tbest: 0.3673186 (10)\ttotal: 6.32s\tremaining: 22.4s\n",
      "11:\tlearn: 0.3738269\ttest: 0.3668235\tbest: 0.3668235 (11)\ttotal: 6.78s\tremaining: 21.5s\n",
      "12:\tlearn: 0.3736878\ttest: 0.3666186\tbest: 0.3666186 (12)\ttotal: 7.33s\tremaining: 20.9s\n",
      "13:\tlearn: 0.3735014\ttest: 0.3663144\tbest: 0.3663144 (13)\ttotal: 7.92s\tremaining: 20.4s\n",
      "14:\tlearn: 0.3730728\ttest: 0.3659127\tbest: 0.3659127 (14)\ttotal: 8.49s\tremaining: 19.8s\n",
      "15:\tlearn: 0.3727745\ttest: 0.3657249\tbest: 0.3657249 (15)\ttotal: 9.09s\tremaining: 19.3s\n",
      "16:\tlearn: 0.3725462\ttest: 0.3655165\tbest: 0.3655165 (16)\ttotal: 9.56s\tremaining: 18.6s\n",
      "17:\tlearn: 0.3721816\ttest: 0.3650008\tbest: 0.3650008 (17)\ttotal: 10.1s\tremaining: 17.9s\n",
      "18:\tlearn: 0.3720622\ttest: 0.3649205\tbest: 0.3649205 (18)\ttotal: 10.7s\tremaining: 17.4s\n",
      "19:\tlearn: 0.3719006\ttest: 0.3647572\tbest: 0.3647572 (19)\ttotal: 11.2s\tremaining: 16.8s\n",
      "20:\tlearn: 0.3717176\ttest: 0.3645618\tbest: 0.3645618 (20)\ttotal: 12s\tremaining: 16.5s\n",
      "21:\tlearn: 0.3716140\ttest: 0.3644923\tbest: 0.3644923 (21)\ttotal: 12.5s\tremaining: 15.9s\n",
      "22:\tlearn: 0.3715401\ttest: 0.3644137\tbest: 0.3644137 (22)\ttotal: 13s\tremaining: 15.2s\n",
      "23:\tlearn: 0.3713408\ttest: 0.3642240\tbest: 0.3642240 (23)\ttotal: 13.5s\tremaining: 14.7s\n",
      "24:\tlearn: 0.3712727\ttest: 0.3641864\tbest: 0.3641864 (24)\ttotal: 14s\tremaining: 14s\n",
      "25:\tlearn: 0.3709573\ttest: 0.3639450\tbest: 0.3639450 (25)\ttotal: 14.5s\tremaining: 13.4s\n",
      "26:\tlearn: 0.3708067\ttest: 0.3637995\tbest: 0.3637995 (26)\ttotal: 15.1s\tremaining: 12.8s\n",
      "27:\tlearn: 0.3705972\ttest: 0.3635834\tbest: 0.3635834 (27)\ttotal: 15.5s\tremaining: 12.2s\n",
      "28:\tlearn: 0.3704449\ttest: 0.3635257\tbest: 0.3635257 (28)\ttotal: 16s\tremaining: 11.6s\n",
      "29:\tlearn: 0.3703597\ttest: 0.3634484\tbest: 0.3634484 (29)\ttotal: 16.5s\tremaining: 11s\n",
      "30:\tlearn: 0.3702803\ttest: 0.3633515\tbest: 0.3633515 (30)\ttotal: 17s\tremaining: 10.4s\n",
      "31:\tlearn: 0.3701862\ttest: 0.3632242\tbest: 0.3632242 (31)\ttotal: 17.5s\tremaining: 9.87s\n",
      "32:\tlearn: 0.3701262\ttest: 0.3631723\tbest: 0.3631723 (32)\ttotal: 18.2s\tremaining: 9.36s\n",
      "33:\tlearn: 0.3700226\ttest: 0.3630829\tbest: 0.3630829 (33)\ttotal: 18.6s\tremaining: 8.77s\n",
      "34:\tlearn: 0.3699227\ttest: 0.3630047\tbest: 0.3630047 (34)\ttotal: 19.1s\tremaining: 8.19s\n",
      "35:\tlearn: 0.3698090\ttest: 0.3628974\tbest: 0.3628974 (35)\ttotal: 19.5s\tremaining: 7.59s\n",
      "36:\tlearn: 0.3697029\ttest: 0.3628716\tbest: 0.3628716 (36)\ttotal: 19.9s\tremaining: 6.99s\n",
      "37:\tlearn: 0.3696557\ttest: 0.3628385\tbest: 0.3628385 (37)\ttotal: 20.4s\tremaining: 6.43s\n",
      "38:\tlearn: 0.3696126\ttest: 0.3628182\tbest: 0.3628182 (38)\ttotal: 21s\tremaining: 5.92s\n",
      "39:\tlearn: 0.3695770\ttest: 0.3628491\tbest: 0.3628182 (38)\ttotal: 21.6s\tremaining: 5.4s\n",
      "40:\tlearn: 0.3695053\ttest: 0.3627935\tbest: 0.3627935 (40)\ttotal: 22.1s\tremaining: 4.86s\n",
      "41:\tlearn: 0.3693587\ttest: 0.3625686\tbest: 0.3625686 (41)\ttotal: 22.6s\tremaining: 4.3s\n",
      "42:\tlearn: 0.3692592\ttest: 0.3624867\tbest: 0.3624867 (42)\ttotal: 23.1s\tremaining: 3.75s\n",
      "43:\tlearn: 0.3691886\ttest: 0.3624878\tbest: 0.3624867 (42)\ttotal: 23.5s\tremaining: 3.2s\n",
      "44:\tlearn: 0.3691438\ttest: 0.3624541\tbest: 0.3624541 (44)\ttotal: 24s\tremaining: 2.66s\n",
      "45:\tlearn: 0.3691064\ttest: 0.3624376\tbest: 0.3624376 (45)\ttotal: 24.5s\tremaining: 2.13s\n",
      "46:\tlearn: 0.3690695\ttest: 0.3624186\tbest: 0.3624186 (46)\ttotal: 24.9s\tremaining: 1.59s\n",
      "47:\tlearn: 0.3690300\ttest: 0.3623964\tbest: 0.3623964 (47)\ttotal: 25.4s\tremaining: 1.06s\n",
      "48:\tlearn: 0.3689856\ttest: 0.3623485\tbest: 0.3623485 (48)\ttotal: 26s\tremaining: 532ms\n",
      "49:\tlearn: 0.3689362\ttest: 0.3623287\tbest: 0.3623287 (49)\ttotal: 26.6s\tremaining: 0us\n",
      "\n",
      "bestTest = 0.362328721\n",
      "bestIteration = 49\n",
      "\n"
     ]
    },
    {
     "data": {
      "text/plain": [
       "<catboost.core.CatBoostClassifier at 0x7fba2768d000>"
      ]
     },
     "execution_count": 9,
     "metadata": {},
     "output_type": "execute_result"
    }
   ],
   "source": [
    "cat_features = [0, 1, 2, 3, 4, 5, 6, 7, 8, 9, 10, 11, 12, 13, 14, 15, 16, 17, 18, 19, 20]\n",
    "\n",
    "model.fit(\n",
    "    X_train, y_train,\n",
    "    eval_set=(X_val, y_val),\n",
    "    cat_features=cat_features,\n",
    "    # verbose=10,\n",
    ")"
   ]
  },
  {
   "cell_type": "code",
   "execution_count": 12,
   "id": "b457f39a-28e7-48e9-b23d-122bf49df71e",
   "metadata": {
    "execution": {
     "iopub.execute_input": "2022-06-01T14:49:13.174787Z",
     "iopub.status.busy": "2022-06-01T14:49:13.172307Z",
     "iopub.status.idle": "2022-06-01T14:49:13.205638Z",
     "shell.execute_reply": "2022-06-01T14:49:13.203456Z",
     "shell.execute_reply.started": "2022-06-01T14:49:13.174700Z"
    },
    "tags": []
   },
   "outputs": [
    {
     "data": {
      "text/html": [
       "<div>\n",
       "<style scoped>\n",
       "    .dataframe tbody tr th:only-of-type {\n",
       "        vertical-align: middle;\n",
       "    }\n",
       "\n",
       "    .dataframe tbody tr th {\n",
       "        vertical-align: top;\n",
       "    }\n",
       "\n",
       "    .dataframe thead th {\n",
       "        text-align: right;\n",
       "    }\n",
       "</style>\n",
       "<table border=\"1\" class=\"dataframe\">\n",
       "  <thead>\n",
       "    <tr style=\"text-align: right;\">\n",
       "      <th></th>\n",
       "      <th>Feature Id</th>\n",
       "      <th>Importances</th>\n",
       "    </tr>\n",
       "  </thead>\n",
       "  <tbody>\n",
       "    <tr>\n",
       "      <th>0</th>\n",
       "      <td>app_id</td>\n",
       "      <td>22.757444</td>\n",
       "    </tr>\n",
       "    <tr>\n",
       "      <th>1</th>\n",
       "      <td>device_ip</td>\n",
       "      <td>17.983645</td>\n",
       "    </tr>\n",
       "    <tr>\n",
       "      <th>2</th>\n",
       "      <td>site_id</td>\n",
       "      <td>15.043044</td>\n",
       "    </tr>\n",
       "    <tr>\n",
       "      <th>3</th>\n",
       "      <td>site_domain</td>\n",
       "      <td>11.521526</td>\n",
       "    </tr>\n",
       "    <tr>\n",
       "      <th>4</th>\n",
       "      <td>C17</td>\n",
       "      <td>7.872775</td>\n",
       "    </tr>\n",
       "    <tr>\n",
       "      <th>5</th>\n",
       "      <td>C14</td>\n",
       "      <td>4.053024</td>\n",
       "    </tr>\n",
       "    <tr>\n",
       "      <th>6</th>\n",
       "      <td>device_model</td>\n",
       "      <td>3.969689</td>\n",
       "    </tr>\n",
       "    <tr>\n",
       "      <th>7</th>\n",
       "      <td>site_category</td>\n",
       "      <td>3.837459</td>\n",
       "    </tr>\n",
       "    <tr>\n",
       "      <th>8</th>\n",
       "      <td>device_id</td>\n",
       "      <td>2.782026</td>\n",
       "    </tr>\n",
       "    <tr>\n",
       "      <th>9</th>\n",
       "      <td>C21</td>\n",
       "      <td>1.972062</td>\n",
       "    </tr>\n",
       "    <tr>\n",
       "      <th>10</th>\n",
       "      <td>C19</td>\n",
       "      <td>1.417646</td>\n",
       "    </tr>\n",
       "    <tr>\n",
       "      <th>11</th>\n",
       "      <td>C18</td>\n",
       "      <td>1.392250</td>\n",
       "    </tr>\n",
       "    <tr>\n",
       "      <th>12</th>\n",
       "      <td>app_domain</td>\n",
       "      <td>1.246664</td>\n",
       "    </tr>\n",
       "    <tr>\n",
       "      <th>13</th>\n",
       "      <td>device_conn_type</td>\n",
       "      <td>0.975181</td>\n",
       "    </tr>\n",
       "    <tr>\n",
       "      <th>14</th>\n",
       "      <td>C20</td>\n",
       "      <td>0.826645</td>\n",
       "    </tr>\n",
       "    <tr>\n",
       "      <th>15</th>\n",
       "      <td>banner_pos</td>\n",
       "      <td>0.722817</td>\n",
       "    </tr>\n",
       "    <tr>\n",
       "      <th>16</th>\n",
       "      <td>app_category</td>\n",
       "      <td>0.653223</td>\n",
       "    </tr>\n",
       "    <tr>\n",
       "      <th>17</th>\n",
       "      <td>hour</td>\n",
       "      <td>0.463613</td>\n",
       "    </tr>\n",
       "    <tr>\n",
       "      <th>18</th>\n",
       "      <td>C16</td>\n",
       "      <td>0.320374</td>\n",
       "    </tr>\n",
       "    <tr>\n",
       "      <th>19</th>\n",
       "      <td>C15</td>\n",
       "      <td>0.128873</td>\n",
       "    </tr>\n",
       "    <tr>\n",
       "      <th>20</th>\n",
       "      <td>C1</td>\n",
       "      <td>0.060020</td>\n",
       "    </tr>\n",
       "    <tr>\n",
       "      <th>21</th>\n",
       "      <td>device_type</td>\n",
       "      <td>0.000000</td>\n",
       "    </tr>\n",
       "  </tbody>\n",
       "</table>\n",
       "</div>"
      ],
      "text/plain": [
       "          Feature Id  Importances\n",
       "0             app_id    22.757444\n",
       "1          device_ip    17.983645\n",
       "2            site_id    15.043044\n",
       "3        site_domain    11.521526\n",
       "4                C17     7.872775\n",
       "5                C14     4.053024\n",
       "6       device_model     3.969689\n",
       "7      site_category     3.837459\n",
       "8          device_id     2.782026\n",
       "9                C21     1.972062\n",
       "10               C19     1.417646\n",
       "11               C18     1.392250\n",
       "12        app_domain     1.246664\n",
       "13  device_conn_type     0.975181\n",
       "14               C20     0.826645\n",
       "15        banner_pos     0.722817\n",
       "16      app_category     0.653223\n",
       "17              hour     0.463613\n",
       "18               C16     0.320374\n",
       "19               C15     0.128873\n",
       "20                C1     0.060020\n",
       "21       device_type     0.000000"
      ]
     },
     "execution_count": 12,
     "metadata": {},
     "output_type": "execute_result"
    }
   ],
   "source": [
    "model.get_feature_importance(prettified=True)"
   ]
  },
  {
   "cell_type": "code",
   "execution_count": 18,
   "id": "d9a0414e-98d4-4d40-af42-e8fb0a60f6f5",
   "metadata": {
    "execution": {
     "iopub.execute_input": "2022-06-01T14:51:22.806900Z",
     "iopub.status.busy": "2022-06-01T14:51:22.805528Z",
     "iopub.status.idle": "2022-06-01T14:51:23.526731Z",
     "shell.execute_reply": "2022-06-01T14:51:23.525606Z",
     "shell.execute_reply.started": "2022-06-01T14:51:22.806781Z"
    },
    "tags": []
   },
   "outputs": [],
   "source": [
    "# Predict\n",
    "preds = model.predict(\n",
    "    X_val,\n",
    "    prediction_type='Probability', \n",
    "    ntree_start=0, ntree_end=model.get_best_iteration(), \n",
    "    thread_count=-1\n",
    ")\n"
   ]
  },
  {
   "cell_type": "code",
   "execution_count": 20,
   "id": "58778044-8e99-4978-9b86-e3372bb96e99",
   "metadata": {
    "execution": {
     "iopub.execute_input": "2022-06-01T14:51:37.741778Z",
     "iopub.status.busy": "2022-06-01T14:51:37.740841Z",
     "iopub.status.idle": "2022-06-01T14:51:37.776294Z",
     "shell.execute_reply": "2022-06-01T14:51:37.774092Z",
     "shell.execute_reply.started": "2022-06-01T14:51:37.741699Z"
    },
    "tags": []
   },
   "outputs": [
    {
     "data": {
      "text/html": [
       "<div>\n",
       "<style scoped>\n",
       "    .dataframe tbody tr th:only-of-type {\n",
       "        vertical-align: middle;\n",
       "    }\n",
       "\n",
       "    .dataframe tbody tr th {\n",
       "        vertical-align: top;\n",
       "    }\n",
       "\n",
       "    .dataframe thead th {\n",
       "        text-align: right;\n",
       "    }\n",
       "</style>\n",
       "<table border=\"1\" class=\"dataframe\">\n",
       "  <thead>\n",
       "    <tr style=\"text-align: right;\">\n",
       "      <th></th>\n",
       "      <th>0</th>\n",
       "      <th>1</th>\n",
       "    </tr>\n",
       "  </thead>\n",
       "  <tbody>\n",
       "    <tr>\n",
       "      <th>0</th>\n",
       "      <td>0.951567</td>\n",
       "      <td>0.048433</td>\n",
       "    </tr>\n",
       "    <tr>\n",
       "      <th>1</th>\n",
       "      <td>0.537359</td>\n",
       "      <td>0.462641</td>\n",
       "    </tr>\n",
       "    <tr>\n",
       "      <th>2</th>\n",
       "      <td>0.591169</td>\n",
       "      <td>0.408831</td>\n",
       "    </tr>\n",
       "    <tr>\n",
       "      <th>3</th>\n",
       "      <td>0.866793</td>\n",
       "      <td>0.133207</td>\n",
       "    </tr>\n",
       "    <tr>\n",
       "      <th>4</th>\n",
       "      <td>0.969202</td>\n",
       "      <td>0.030798</td>\n",
       "    </tr>\n",
       "    <tr>\n",
       "      <th>...</th>\n",
       "      <td>...</td>\n",
       "      <td>...</td>\n",
       "    </tr>\n",
       "    <tr>\n",
       "      <th>99995</th>\n",
       "      <td>0.811377</td>\n",
       "      <td>0.188623</td>\n",
       "    </tr>\n",
       "    <tr>\n",
       "      <th>99996</th>\n",
       "      <td>0.957576</td>\n",
       "      <td>0.042424</td>\n",
       "    </tr>\n",
       "    <tr>\n",
       "      <th>99997</th>\n",
       "      <td>0.989126</td>\n",
       "      <td>0.010874</td>\n",
       "    </tr>\n",
       "    <tr>\n",
       "      <th>99998</th>\n",
       "      <td>0.985147</td>\n",
       "      <td>0.014853</td>\n",
       "    </tr>\n",
       "    <tr>\n",
       "      <th>99999</th>\n",
       "      <td>0.965882</td>\n",
       "      <td>0.034118</td>\n",
       "    </tr>\n",
       "  </tbody>\n",
       "</table>\n",
       "<p>100000 rows × 2 columns</p>\n",
       "</div>"
      ],
      "text/plain": [
       "              0         1\n",
       "0      0.951567  0.048433\n",
       "1      0.537359  0.462641\n",
       "2      0.591169  0.408831\n",
       "3      0.866793  0.133207\n",
       "4      0.969202  0.030798\n",
       "...         ...       ...\n",
       "99995  0.811377  0.188623\n",
       "99996  0.957576  0.042424\n",
       "99997  0.989126  0.010874\n",
       "99998  0.985147  0.014853\n",
       "99999  0.965882  0.034118\n",
       "\n",
       "[100000 rows x 2 columns]"
      ]
     },
     "execution_count": 20,
     "metadata": {},
     "output_type": "execute_result"
    }
   ],
   "source": [
    "pd.DataFrame(preds)"
   ]
  },
  {
   "cell_type": "code",
   "execution_count": 15,
   "id": "4334ae80-de33-4262-bf2d-c4837c68b30b",
   "metadata": {
    "execution": {
     "iopub.execute_input": "2022-06-01T14:49:30.281974Z",
     "iopub.status.busy": "2022-06-01T14:49:30.279193Z",
     "iopub.status.idle": "2022-06-01T14:49:30.450309Z",
     "shell.execute_reply": "2022-06-01T14:49:30.449445Z",
     "shell.execute_reply.started": "2022-06-01T14:49:30.281874Z"
    },
    "tags": []
   },
   "outputs": [],
   "source": [
    "import pickle\n",
    "\n",
    "with open('model/catboost-classifier.pickle', 'wb') as handle:\n",
    "    pickle.dump(model, handle)"
   ]
  },
  {
   "cell_type": "code",
   "execution_count": null,
   "id": "36a4c53a-7526-494a-b7d5-f307d2d10f61",
   "metadata": {},
   "outputs": [],
   "source": []
  }
 ],
 "metadata": {
  "kernelspec": {
   "display_name": "Python 3 (ipykernel)",
   "language": "python",
   "name": "python3"
  },
  "language_info": {
   "codemirror_mode": {
    "name": "ipython",
    "version": 3
   },
   "file_extension": ".py",
   "mimetype": "text/x-python",
   "name": "python",
   "nbconvert_exporter": "python",
   "pygments_lexer": "ipython3",
   "version": "3.10.2"
  }
 },
 "nbformat": 4,
 "nbformat_minor": 5
}
