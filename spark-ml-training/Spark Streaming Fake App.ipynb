{
 "cells": [
  {
   "cell_type": "code",
   "execution_count": null,
   "id": "b478262e",
   "metadata": {},
   "outputs": [],
   "source": [
    "from pyspark.sql.types import (\n",
    "    StructType,\n",
    "    StructField,\n",
    "    FloatType,\n",
    "    StringType,\n",
    "    LongType,\n",
    "    IntegerType,\n",
    "    DecimalType,\n",
    ")\n",
    "from pyspark.sql.types import (\n",
    "    StructType,\n",
    "    StructField,\n",
    "    FloatType,\n",
    "    StringType,\n",
    "    LongType,\n",
    "    IntegerType,\n",
    "    DoubleType,\n",
    ")\n",
    "from pyspark.sql.functions import (\n",
    "    split,\n",
    "    regexp_replace,\n",
    "    current_date,\n",
    "    unix_timestamp,\n",
    "    lit,\n",
    "    current_timestamp,\n",
    ")\n",
    "\n",
    "from pyspark.sql.functions import col, from_json, struct, to_json\n",
    "from pyspark.sql.functions import pandas_udf, PandasUDFType\n",
    "from pyspark import SparkContext, SparkConf\n",
    "from pyspark.sql import functions as F\n",
    "from pyspark.sql import SparkSession\n",
    "\n",
    "import pandas as pd\n",
    "import pickle\n",
    "import json\n",
    "import time\n",
    "import os\n"
   ]
  },
  {
   "cell_type": "code",
   "execution_count": null,
   "id": "d3ba7b97",
   "metadata": {
    "execution": {
     "iopub.execute_input": "2022-06-06T17:04:27.014515Z",
     "iopub.status.busy": "2022-06-06T17:04:27.013980Z",
     "iopub.status.idle": "2022-06-06T17:04:33.367796Z",
     "shell.execute_reply": "2022-06-06T17:04:33.367050Z",
     "shell.execute_reply.started": "2022-06-06T17:04:27.014449Z"
    },
    "scrolled": true,
    "tags": []
   },
   "outputs": [],
   "source": [
    "os.environ[\n",
    "    \"PYSPARK_SUBMIT_ARGS\"\n",
    "] = \"--packages org.apache.spark:spark-streaming-kafka-0-10_2.12:3.2.0,org.apache.spark:spark-sql-kafka-0-10_2.12:3.2.0,org.postgresql:postgresql:42.1.1 pyspark-shell\"\n",
    "\n",
    "\n",
    "APP_NAME = os.getenv(\"APP_NAME\", \"spark-streaming-app\")\n",
    "MASTER = os.getenv(\"MASTER\", \"local[*]\")\n",
    "KAFKA_HOST = \"localhost:9092\"  # \"kafka-cluster-kafka-bootstrap:9092\"\n",
    "\n",
    "# MASTER = \"spark://carloshkayser:7077\"\n",
    "\n",
    "spark = (\n",
    "    SparkSession.builder.appName(\"Spark Structured Streaming Application\")\n",
    "    .master(MASTER)\n",
    "    .getOrCreate()\n",
    ")\n",
    "\n",
    "spark\n"
   ]
  },
  {
   "cell_type": "code",
   "execution_count": null,
   "id": "8286dabe",
   "metadata": {
    "execution": {
     "iopub.execute_input": "2022-06-06T17:04:33.369282Z",
     "iopub.status.busy": "2022-06-06T17:04:33.368885Z",
     "iopub.status.idle": "2022-06-06T17:04:34.892328Z",
     "shell.execute_reply": "2022-06-06T17:04:34.891611Z",
     "shell.execute_reply.started": "2022-06-06T17:04:33.369251Z"
    },
    "tags": []
   },
   "outputs": [],
   "source": [
    "df_raw = (\n",
    "    spark.readStream.format(\"kafka\")\n",
    "    .option(\"kafka.bootstrap.servers\", KAFKA_HOST)\n",
    "    .option(\"subscribe\", \"to_predict\")\n",
    "    .option(\"startingOffsets\", \"latest\")\n",
    "    .load()\n",
    ")\n"
   ]
  },
  {
   "cell_type": "code",
   "execution_count": null,
   "id": "a6008327",
   "metadata": {
    "execution": {
     "iopub.execute_input": "2022-06-06T17:04:34.893745Z",
     "iopub.status.busy": "2022-06-06T17:04:34.893368Z",
     "iopub.status.idle": "2022-06-06T17:04:34.918896Z",
     "shell.execute_reply": "2022-06-06T17:04:34.918246Z",
     "shell.execute_reply.started": "2022-06-06T17:04:34.893719Z"
    },
    "tags": []
   },
   "outputs": [],
   "source": [
    "df_raw.printSchema()\n"
   ]
  },
  {
   "cell_type": "code",
   "execution_count": null,
   "id": "d9d2fb02-a207-410b-9575-2f4077bab353",
   "metadata": {
    "execution": {
     "iopub.execute_input": "2022-06-06T17:04:34.921377Z",
     "iopub.status.busy": "2022-06-06T17:04:34.920993Z",
     "iopub.status.idle": "2022-06-06T17:04:35.438137Z",
     "shell.execute_reply": "2022-06-06T17:04:35.436614Z",
     "shell.execute_reply.started": "2022-06-06T17:04:34.921352Z"
    },
    "tags": []
   },
   "outputs": [],
   "source": [
    "# {\n",
    "#   \"id\": 1.0079274744188029e+19,\n",
    "#   \"hour\": 14103100,\n",
    "#   \"C1\": 1005,\n",
    "#   \"banner_pos\": 0,\n",
    "#   \"site_id\": \"85f751fd\",\n",
    "#   \"site_domain\": \"c4e18dd6\",\n",
    "#   \"site_category\": \"50e219e0\",\n",
    "#   \"app_id\": \"febd1138\",\n",
    "#   \"app_domain\": \"82e27996\",\n",
    "#   \"app_category\": \"0f2161f8\",\n",
    "#   \"device_id\": \"a99f214a\",\n",
    "#   \"device_ip\": \"b72692c8\",\n",
    "#   \"device_model\": \"99e427c9\",\n",
    "#   \"device_type\": 1,\n",
    "#   \"device_conn_type\": 0,\n",
    "#   \"C14\": 21611,\n",
    "#   \"C15\": 320,\n",
    "#   \"C16\": 50,\n",
    "#   \"C17\": 2480,\n",
    "#   \"C18\": 3,\n",
    "#   \"C19\": 299,\n",
    "#   \"C20\": 100111,\n",
    "#   \"C21\": 61\n",
    "# }\n",
    "\n",
    "schema = StructType(\n",
    "    [\n",
    "        StructField(\"id\", DecimalType(38, 0), True),\n",
    "        StructField(\"hour\", IntegerType(), True),\n",
    "        StructField(\"C1\", IntegerType(), True),\n",
    "        StructField(\"banner_pos\", IntegerType(), True),\n",
    "        StructField(\"site_id\", StringType(), True),\n",
    "        StructField(\"site_domain\", StringType(), True),\n",
    "        StructField(\"site_category\", StringType(), True),\n",
    "        StructField(\"app_id\", StringType(), True),\n",
    "        StructField(\"app_domain\", StringType(), True),\n",
    "        StructField(\"app_category\", StringType(), True),\n",
    "        StructField(\"device_id\", StringType(), True),\n",
    "        StructField(\"device_ip\", StringType(), True),\n",
    "        StructField(\"device_model\", StringType(), True),\n",
    "        StructField(\"device_type\", IntegerType(), True),\n",
    "        StructField(\"device_conn_type\", IntegerType(), True),\n",
    "        StructField(\"C14\", IntegerType(), True),\n",
    "        StructField(\"C15\", IntegerType(), True),\n",
    "        StructField(\"C16\", IntegerType(), True),\n",
    "        StructField(\"C17\", IntegerType(), True),\n",
    "        StructField(\"C18\", IntegerType(), True),\n",
    "        StructField(\"C19\", IntegerType(), True),\n",
    "        StructField(\"C20\", IntegerType(), True),\n",
    "        StructField(\"C21\", IntegerType(), True),\n",
    "    ]\n",
    ")\n"
   ]
  },
  {
   "cell_type": "code",
   "execution_count": null,
   "id": "b073d71f-22d7-4634-ac56-dd82968f3b3a",
   "metadata": {
    "execution": {
     "iopub.execute_input": "2022-06-06T17:04:35.440829Z",
     "iopub.status.busy": "2022-06-06T17:04:35.440219Z",
     "iopub.status.idle": "2022-06-06T17:04:35.831027Z",
     "shell.execute_reply": "2022-06-06T17:04:35.830348Z",
     "shell.execute_reply.started": "2022-06-06T17:04:35.440795Z"
    },
    "tags": []
   },
   "outputs": [],
   "source": [
    "df = (\n",
    "    df_raw.selectExpr(\"CAST(value AS STRING)\")\n",
    "    .select(from_json(\"value\", schema).alias(\"data\"))\n",
    "    .select(\"data.*\")\n",
    ")\n",
    "\n",
    "df.printSchema()\n"
   ]
  },
  {
   "cell_type": "code",
   "execution_count": null,
   "id": "60393740-2f87-4fef-b611-40add528fa27",
   "metadata": {
    "execution": {
     "iopub.execute_input": "2022-06-06T17:04:35.832359Z",
     "iopub.status.busy": "2022-06-06T17:04:35.832053Z",
     "iopub.status.idle": "2022-06-06T17:04:43.307993Z",
     "shell.execute_reply": "2022-06-06T17:04:43.307302Z",
     "shell.execute_reply.started": "2022-06-06T17:04:35.832335Z"
    },
    "tags": []
   },
   "outputs": [],
   "source": [
    "from pyspark.ml import PipelineModel\n",
    "\n",
    "# Read the model from disk\n",
    "pipelineModel = PipelineModel.load(\"model/spark-logistic-regression-model\")\n",
    "\n",
    "# Apply machine learning pipeline to the data\n",
    "results = pipelineModel.transform(df)\n",
    "\n",
    "results.printSchema()\n"
   ]
  },
  {
   "cell_type": "code",
   "execution_count": null,
   "id": "2525f651-7675-4f47-a556-afd0208e0ae8",
   "metadata": {
    "execution": {
     "iopub.execute_input": "2022-06-06T17:04:46.513075Z",
     "iopub.status.busy": "2022-06-06T17:04:46.512538Z",
     "iopub.status.idle": "2022-06-06T17:04:46.607462Z",
     "shell.execute_reply": "2022-06-06T17:04:46.606690Z",
     "shell.execute_reply.started": "2022-06-06T17:04:46.513052Z"
    },
    "tags": []
   },
   "outputs": [],
   "source": [
    "results = results.withColumn(\"processed_at\", current_timestamp())\n",
    "\n",
    "results = (\n",
    "    results.withColumn(\"probability\", results[\"probability\"].cast(\"String\"))\n",
    "    .withColumn(\n",
    "        \"probabilityre\",\n",
    "        split(regexp_replace(\"probability\", \"^\\[|\\]\", \"\"), \",\")[1].cast(DoubleType()),\n",
    "    )\n",
    "    .select(\"id\", \"probabilityre\", \"processed_at\")\n",
    "    .withColumnRenamed(\"probabilityre\", \"probability\")\n",
    ")\n",
    "\n",
    "results_kafka = results.select(\n",
    "    to_json(struct(\"id\", \"probability\", \"processed_at\")).alias(\"value\")\n",
    ")\n",
    "\n",
    "results_postgres = results.select(\n",
    "    \"id\", \"probability\", \"processed_at\"\n",
    ")"
   ]
  },
  {
   "cell_type": "code",
   "execution_count": null,
   "id": "cfed30ed",
   "metadata": {},
   "outputs": [],
   "source": [
    "results_kafka.printSchema()"
   ]
  },
  {
   "cell_type": "code",
   "execution_count": null,
   "id": "3592aea8-f06c-41be-8de0-4033cf930de1",
   "metadata": {
    "execution": {
     "iopub.execute_input": "2022-06-06T17:04:46.613942Z",
     "iopub.status.busy": "2022-06-06T17:04:46.613243Z",
     "iopub.status.idle": "2022-06-06T17:04:46.617782Z",
     "shell.execute_reply": "2022-06-06T17:04:46.617108Z",
     "shell.execute_reply.started": "2022-06-06T17:04:46.613917Z"
    },
    "tags": []
   },
   "outputs": [],
   "source": [
    "results_postgres.printSchema()\n"
   ]
  },
  {
   "cell_type": "markdown",
   "id": "c1bb0d0b",
   "metadata": {},
   "source": [
    "### Logging the data stream in the console"
   ]
  },
  {
   "cell_type": "code",
   "execution_count": null,
   "id": "5332f99b-a345-4383-94f5-885391a53c50",
   "metadata": {
    "execution": {
     "iopub.execute_input": "2022-06-06T17:04:46.621809Z",
     "iopub.status.busy": "2022-06-06T17:04:46.621243Z",
     "iopub.status.idle": "2022-06-06T17:04:46.625335Z",
     "shell.execute_reply": "2022-06-06T17:04:46.624590Z",
     "shell.execute_reply.started": "2022-06-06T17:04:46.621784Z"
    },
    "tags": []
   },
   "outputs": [],
   "source": [
    "query = results.select(\"id\", \"probability\", \"processed_at\") \\\n",
    "    .writeStream \\\n",
    "    .format(\"console\") \\\n",
    "    .start()\n",
    "\n",
    "time.sleep(10)\n",
    "\n",
    "query.stop()\n"
   ]
  },
  {
   "cell_type": "markdown",
   "id": "6fb48ce3",
   "metadata": {},
   "source": [
    "### Inserting data stream transformation results into another Apache Kafka topic"
   ]
  },
  {
   "cell_type": "code",
   "execution_count": null,
   "id": "e553b9fb-9c09-4340-8451-b0e95f653bc2",
   "metadata": {
    "execution": {
     "iopub.execute_input": "2022-06-06T17:04:46.791477Z",
     "iopub.status.busy": "2022-06-06T17:04:46.790890Z",
     "iopub.status.idle": "2022-06-06T17:04:46.795093Z",
     "shell.execute_reply": "2022-06-06T17:04:46.794281Z",
     "shell.execute_reply.started": "2022-06-06T17:04:46.791450Z"
    },
    "tags": []
   },
   "outputs": [],
   "source": [
    "query = results_kafka.writeStream \\\n",
    "    .format(\"kafka\") \\\n",
    "    .option(\"kafka.bootstrap.servers\", \"localhost:9092\") \\\n",
    "    .option(\"topic\", \"predictions\") \\\n",
    "    .option(\"checkpointLocation\", \"/home/kayser/temp\") \\\n",
    "    .outputMode(\"Append\") \\\n",
    "    .start()\n",
    "\n",
    "time.sleep(30)\n",
    "\n",
    "query.stop()\n"
   ]
  },
  {
   "cell_type": "markdown",
   "id": "a0548163-9ba2-4b3d-8e6d-3db8ef943a6c",
   "metadata": {},
   "source": [
    "### Inserting data stream into PostgreSQL database"
   ]
  },
  {
   "cell_type": "code",
   "execution_count": null,
   "id": "2d2a08c6-d78e-4f90-9954-7d83b6ac36bb",
   "metadata": {
    "execution": {
     "iopub.execute_input": "2022-06-06T17:04:46.631436Z",
     "iopub.status.busy": "2022-06-06T17:04:46.630914Z",
     "iopub.status.idle": "2022-06-06T17:04:46.789470Z",
     "shell.execute_reply": "2022-06-06T17:04:46.788754Z",
     "shell.execute_reply.started": "2022-06-06T17:04:46.631413Z"
    },
    "tags": []
   },
   "outputs": [],
   "source": [
    "def foreach_batch_function(df, epoch_id):\n",
    "\n",
    "    df.write.format(\"jdbc\").option(\n",
    "        \"url\", \"jdbc:postgresql://localhost:5432/postgres\"\n",
    "    ).option(\"driver\", \"org.postgresql.Driver\").option(\"dbtable\", \"predictions\").option(\n",
    "        \"user\", \"postgres\"\n",
    "    ).option(\n",
    "        \"password\", \"postgres\"\n",
    "    ).mode(\n",
    "        \"append\"\n",
    "    ).save()\n",
    "\n",
    "results_postgres.writeStream.foreachBatch(foreach_batch_function).option(\n",
    "    \"checkpointLocation\", \"/home/kayser/temp\"\n",
    ").outputMode(\"update\").start()\n"
   ]
  },
  {
   "cell_type": "code",
   "execution_count": null,
   "id": "68e83dbe-9c6a-417f-ba19-cb562e35543a",
   "metadata": {},
   "outputs": [],
   "source": []
  },
  {
   "cell_type": "code",
   "execution_count": null,
   "id": "a676e245-c111-47f2-8e66-714f4c355b03",
   "metadata": {},
   "outputs": [],
   "source": []
  },
  {
   "cell_type": "code",
   "execution_count": null,
   "id": "ad7d6ae4-c289-4e30-ab41-b40cc7f94581",
   "metadata": {},
   "outputs": [],
   "source": []
  },
  {
   "cell_type": "code",
   "execution_count": null,
   "id": "91122816-505a-458b-a55e-0586586d2eb8",
   "metadata": {},
   "outputs": [],
   "source": []
  },
  {
   "cell_type": "code",
   "execution_count": null,
   "id": "c717dced-ccef-454e-be79-ad9f4068c3f4",
   "metadata": {
    "execution": {
     "iopub.execute_input": "2022-06-06T17:04:46.796551Z",
     "iopub.status.busy": "2022-06-06T17:04:46.796058Z"
    },
    "tags": []
   },
   "outputs": [],
   "source": [
    "spark.streams.awaitAnyTermination()\n"
   ]
  },
  {
   "cell_type": "code",
   "execution_count": null,
   "id": "9b4e3467-2eb6-4656-aa9b-1966cfd7b242",
   "metadata": {},
   "outputs": [],
   "source": []
  },
  {
   "cell_type": "code",
   "execution_count": null,
   "id": "2b8b8d50-0fe1-4698-9c80-b72ae6f5e51b",
   "metadata": {},
   "outputs": [],
   "source": []
  },
  {
   "cell_type": "code",
   "execution_count": null,
   "id": "cfa84f86-ab72-4ea1-baf4-151ac3a215b6",
   "metadata": {},
   "outputs": [],
   "source": [
    "stop\n"
   ]
  },
  {
   "cell_type": "code",
   "execution_count": null,
   "id": "d5a3b79a-b037-44bc-a4f5-98fcf211139d",
   "metadata": {},
   "outputs": [],
   "source": [
    "class PostgresSink:\n",
    "    \n",
    "    def __init__(self, jdbc: str):\n",
    "        "
   ]
  },
  {
   "cell_type": "code",
   "execution_count": null,
   "id": "24e2b0bc-2448-425a-9435-4823b4c088d0",
   "metadata": {},
   "outputs": [],
   "source": [
    "!wget https://jdbc.postgresql.org/download/postgresql-42.2.6.jar"
   ]
  },
  {
   "cell_type": "code",
   "execution_count": null,
   "id": "37a91c3e-22c3-4f83-bfb0-5e251a7ce46f",
   "metadata": {},
   "outputs": [],
   "source": []
  },
  {
   "cell_type": "code",
   "execution_count": null,
   "id": "4eeeebac-60e9-4bfe-bbef-ff3a961a5466",
   "metadata": {},
   "outputs": [],
   "source": []
  },
  {
   "cell_type": "code",
   "execution_count": null,
   "id": "71fc50ca-fd9e-4673-a297-f496c04b532e",
   "metadata": {},
   "outputs": [],
   "source": []
  },
  {
   "cell_type": "code",
   "execution_count": null,
   "id": "16cf7378-f1c2-449b-84da-6bf4ceadcf9b",
   "metadata": {},
   "outputs": [],
   "source": []
  },
  {
   "cell_type": "code",
   "execution_count": null,
   "id": "ad618be9-2ad5-4444-8684-b44197536be8",
   "metadata": {},
   "outputs": [],
   "source": []
  },
  {
   "cell_type": "code",
   "execution_count": null,
   "id": "d98076af-c818-4417-82a0-5f241f828edf",
   "metadata": {},
   "outputs": [],
   "source": []
  },
  {
   "cell_type": "code",
   "execution_count": null,
   "id": "7abebc5a-7238-48fb-8b89-89d737324c21",
   "metadata": {},
   "outputs": [],
   "source": []
  },
  {
   "cell_type": "code",
   "execution_count": null,
   "id": "561ab63a",
   "metadata": {
    "tags": []
   },
   "outputs": [],
   "source": [
    "# Read machine learning model\n",
    "\n",
    "\n",
    "# model_features = [0, 1, 2, 3, 4, 5, 6, 7, 8, 9, 10, 11, 12, 13, 14, 15, 16, 17, 18, 19, 20]\n",
    "\n",
    "with open(\"model/catboost-classifier.pickle\", \"rb\") as handle:\n",
    "    model = pickle.load(handle)\n",
    "\n",
    "\n",
    "@pandas_udf(FloatType())\n",
    "def predict(row: pd.Series) -> pd.Series:\n",
    "\n",
    "    print(\"columns\", row.columns)\n",
    "    for i, v in row.iteritems():\n",
    "        print(\"index: \", i, \"value: \", v)\n",
    "\n",
    "    if row is None:\n",
    "        return\n",
    "\n",
    "    # d = json.loads(row)\n",
    "    # data = pd.DataFrame.from_dict(d, orient = \"index\").transpose()\n",
    "\n",
    "    return model.predict(\n",
    "        row,\n",
    "        prediction_type=\"Probability\",\n",
    "        ntree_start=0,\n",
    "        ntree_end=model.get_best_iteration(),\n",
    "        thread_count=-1,\n",
    "    )\n",
    "\n",
    "\n",
    "# from pyspark.sql.functions import udf\n",
    "# predict_udf = udf(predict, StringType())\n"
   ]
  },
  {
   "cell_type": "code",
   "execution_count": null,
   "id": "f75caab7-f75c-4805-b820-d97ff39c9c6c",
   "metadata": {},
   "outputs": [],
   "source": []
  },
  {
   "cell_type": "code",
   "execution_count": null,
   "id": "f057501c-700a-4e50-a2c9-355e452e9c4b",
   "metadata": {},
   "outputs": [],
   "source": []
  },
  {
   "cell_type": "code",
   "execution_count": null,
   "id": "25eccfa4-6326-4d19-a6fc-24550f914128",
   "metadata": {},
   "outputs": [],
   "source": []
  },
  {
   "cell_type": "code",
   "execution_count": null,
   "id": "c3beabcc-9065-4c97-9e28-0003d1b3ccd6",
   "metadata": {},
   "outputs": [],
   "source": []
  },
  {
   "cell_type": "code",
   "execution_count": null,
   "id": "bba94363-4605-4b2c-b904-6a7c5b78d573",
   "metadata": {
    "tags": []
   },
   "outputs": [],
   "source": [
    "# dfInt = spark \\\n",
    "#     .readStream \\\n",
    "#     .load() \\\n",
    "#     .selectExpr(\"cast (body as string) as json\") \\\n",
    "#     .select(from_json(\"json\",schema).alias(\"data\")) \\\n",
    "#     .withColumn(\"k\", expr(\"uuid()\")) \\\n",
    "#     .select(\"key\", explode(\"data.features\").alias(\"feat\")) \\\n",
    "#     .select(\"feat.*\", \"key\") \\\n",
    "#     .groupBy(\"k\") \\\n",
    "#     .agg(*expressions) \\\n",
    "#     .drop(\"k\") \\\n",
    "#     .na.drop() \\\n",
    "#     .withColumn(\"prediction\", predict( (F.struct([col(x) for x in (features)]))))\n"
   ]
  },
  {
   "cell_type": "code",
   "execution_count": null,
   "id": "15708113-d44e-4139-939c-7a33823a42ff",
   "metadata": {
    "tags": []
   },
   "outputs": [],
   "source": [
    "features = [\n",
    "    \"hour\",\n",
    "    \"C1\",\n",
    "    \"banner_pos\",\n",
    "    \"site_id\",\n",
    "    \"site_domain\",\n",
    "    \"site_category\",\n",
    "    \"app_id\",\n",
    "    \"app_domain\",\n",
    "    \"app_category\",\n",
    "    \"device_id\",\n",
    "    \"device_ip\",\n",
    "    \"device_model\",\n",
    "    \"device_type\",\n",
    "    \"device_conn_type\",\n",
    "    \"C14\",\n",
    "    \"C15\",\n",
    "    \"C16\",\n",
    "    \"C17\",\n",
    "    \"C18\",\n",
    "    \"C19\",\n",
    "    \"C20\",\n",
    "]\n",
    "\n",
    "columns = [\n",
    "    \"hour\",\n",
    "    \"C1\",\n",
    "    \"banner_pos\",\n",
    "    \"site_id\",\n",
    "    \"site_domain\",\n",
    "    \"site_category\",\n",
    "    \"app_id\",\n",
    "    \"app_domain\",\n",
    "    \"app_category\",\n",
    "    \"device_id\",\n",
    "    \"device_ip\",\n",
    "    \"device_model\",\n",
    "    \"device_type\",\n",
    "    \"device_conn_type\",\n",
    "    \"C14\",\n",
    "    \"C15\",\n",
    "    \"C16\",\n",
    "    \"C17\",\n",
    "    \"C18\",\n",
    "    \"C19\",\n",
    "    \"C20\",\n",
    "    \"C21\",\n",
    "]\n",
    "\n",
    "# df_result = df.withColumn(\"prediction\", predict((struct([col(x) for x in features]))))\n",
    "\n",
    "# df_result = df.select([col(x) for x in features])\n",
    "\n",
    "df_result = df.withColumn(\"prediction\", predict((struct([col(x) for x in columns]))))\n"
   ]
  },
  {
   "cell_type": "code",
   "execution_count": null,
   "id": "4008b51b-b3b1-4876-a6d0-7d8368bd146a",
   "metadata": {
    "tags": []
   },
   "outputs": [],
   "source": [
    "# Create Temp View\n",
    "# df.createOrReplaceTempView(\"dataframe\")\n",
    "\n",
    "# # Apply UDF in SQL query.\n",
    "# df_results = spark.sql(f\"select predict({', '.join(features)}) as score from dataframe\")\n",
    "\n",
    "# df_results = df_json.select(predict_udf(\"json\").alias(\"value\"))\n"
   ]
  },
  {
   "cell_type": "code",
   "execution_count": null,
   "id": "e4271254-fbb6-47d8-9110-37b56c7bca96",
   "metadata": {
    "tags": []
   },
   "outputs": [],
   "source": [
    "# Start streaming on console\n",
    "\n",
    "# df.writeStream \\\n",
    "#       .format(\"console\") \\\n",
    "#       .start() \\\n",
    "#       .awaitTermination()\n",
    "\n",
    "query = df_result.writeStream.format(\"console\").start()\n",
    "\n",
    "# query = df_result.writeStream \\\n",
    "#   .format(\"csv\") \\\n",
    "#   .option(\"checkpointLocation\", \"checkpoint/\") \\\n",
    "#   .option(\"path\", \"data/\") \\\n",
    "#   .outputMode(\"append\") \\\n",
    "#   .start()\n",
    "\n",
    "time.sleep(10)  # sleep 10 seconds\n",
    "\n",
    "query.stop()\n"
   ]
  },
  {
   "cell_type": "code",
   "execution_count": null,
   "id": "da2961c3-5b02-4241-8498-fc7a0907552e",
   "metadata": {},
   "outputs": [],
   "source": [
    "stop\n"
   ]
  },
  {
   "cell_type": "code",
   "execution_count": null,
   "id": "994efd04-d7a7-488d-b4cd-ff45c61566d4",
   "metadata": {},
   "outputs": [],
   "source": []
  },
  {
   "cell_type": "code",
   "execution_count": null,
   "id": "4e321e92-5dc8-4a69-b46c-dc3a2d910549",
   "metadata": {},
   "outputs": [],
   "source": [
    "# # read from Kafka\n",
    "# df = spark.readStream.format(\"kafka\")\n",
    "#   .option(\"kafka.bootstrap.servers\", \"{external_ip}:9092\")\n",
    "#   .option(\"subscribe\", \"dsp\").load()\n",
    "# # select the value field and apply the UDF\n",
    "# df = df.selectExpr(\"CAST(value AS STRING)\")\n",
    "# score_udf = udf(score, StringType())\n",
    "# df = df.select( score_udf(\"value\").alias(\"value\"))\n",
    "# # Write results to Kafka\n",
    "# query = df.writeStream.format(\"kafka\")\n",
    "#   .option(\"kafka.bootstrap.servers\", \"{external_ip}:9092\")\n",
    "#   .option(\"topic\", \"preds\")\n",
    "#   .option(\"checkpointLocation\", \"/temp\").start()\n"
   ]
  },
  {
   "cell_type": "code",
   "execution_count": null,
   "id": "49bfc109-33cc-4550-9626-fbf47901f932",
   "metadata": {},
   "outputs": [],
   "source": []
  },
  {
   "cell_type": "code",
   "execution_count": null,
   "id": "75bee8ef",
   "metadata": {
    "tags": []
   },
   "outputs": [],
   "source": []
  },
  {
   "cell_type": "code",
   "execution_count": null,
   "id": "1f6336e1-c5e2-40a0-837e-6018205aec92",
   "metadata": {},
   "outputs": [],
   "source": []
  },
  {
   "cell_type": "code",
   "execution_count": null,
   "id": "e363b352-9c8c-4a77-8ba0-3ce479c28708",
   "metadata": {},
   "outputs": [],
   "source": []
  },
  {
   "cell_type": "code",
   "execution_count": null,
   "id": "3e7f0b82-8be7-4688-b56f-0d025cbc5507",
   "metadata": {},
   "outputs": [],
   "source": []
  },
  {
   "cell_type": "code",
   "execution_count": null,
   "id": "d395d4fc-7cc9-486b-bf50-3b4baf9f3b5a",
   "metadata": {},
   "outputs": [],
   "source": []
  },
  {
   "cell_type": "code",
   "execution_count": null,
   "id": "c3d5e6ff-bcd3-4390-8d95-a68616fd4597",
   "metadata": {},
   "outputs": [],
   "source": []
  },
  {
   "cell_type": "code",
   "execution_count": null,
   "id": "ae35b8b1",
   "metadata": {
    "tags": []
   },
   "outputs": [],
   "source": []
  },
  {
   "cell_type": "code",
   "execution_count": null,
   "id": "d798837b",
   "metadata": {},
   "outputs": [],
   "source": [
    "# df = df.select('request_id', \\\n",
    "#     F.col('data').getItem('CPU').alias('CPU'), \\\n",
    "#     F.col('data').getItem('memory').alias('memory'), \\\n",
    "#     F.col('data').getItem('disk').alias('disk'))\n",
    "\n",
    "# df.printSchema()\n"
   ]
  },
  {
   "cell_type": "code",
   "execution_count": null,
   "id": "7af89efe",
   "metadata": {
    "tags": []
   },
   "outputs": [],
   "source": [
    "# Start streaming on console\n",
    "\n",
    "# df.writeStream \\\n",
    "#       .format(\"console\") \\\n",
    "#       .start() \\\n",
    "#       .awaitTermination()\n",
    "\n",
    "query = df.writeStream.format(\"console\").start()\n",
    "\n",
    "time.sleep(10)  # sleep 10 seconds\n",
    "\n",
    "query.stop()\n"
   ]
  },
  {
   "cell_type": "code",
   "execution_count": null,
   "id": "b8e4c543",
   "metadata": {},
   "outputs": [],
   "source": [
    "stop\n"
   ]
  },
  {
   "cell_type": "code",
   "execution_count": null,
   "id": "508dc702",
   "metadata": {},
   "outputs": [],
   "source": []
  },
  {
   "cell_type": "code",
   "execution_count": null,
   "id": "ff3a30fa-7b2a-4c56-8d41-a5acf1e31778",
   "metadata": {},
   "outputs": [],
   "source": []
  },
  {
   "cell_type": "code",
   "execution_count": null,
   "id": "61f3bdd4-3dbb-4dc1-aef8-de81db9f7ed5",
   "metadata": {},
   "outputs": [],
   "source": []
  },
  {
   "cell_type": "code",
   "execution_count": null,
   "id": "b457b145-13ea-48b6-9255-eb016df671cf",
   "metadata": {},
   "outputs": [],
   "source": [
    "!pip install scipy"
   ]
  },
  {
   "cell_type": "code",
   "execution_count": null,
   "id": "8dfc3e46",
   "metadata": {
    "tags": []
   },
   "outputs": [],
   "source": []
  },
  {
   "cell_type": "code",
   "execution_count": null,
   "id": "074ade76-9cf7-4a0b-a58b-ca7d30220d92",
   "metadata": {},
   "outputs": [],
   "source": []
  },
  {
   "cell_type": "code",
   "execution_count": null,
   "id": "a99c34e0-0469-44e3-b480-7710bb164872",
   "metadata": {},
   "outputs": [],
   "source": [
    "# Create Temp View\n",
    "df.createOrReplaceTempView(\"dataframe\")\n",
    "\n",
    "# Apply UDF in SQL query.\n",
    "resultDF = spark.sql(\"select predict(*) as up_down_udf from dataframe\")\n"
   ]
  },
  {
   "cell_type": "code",
   "execution_count": null,
   "id": "b02cc1b3-76ef-4c2a-937c-ff6ff53789c8",
   "metadata": {},
   "outputs": [],
   "source": []
  },
  {
   "cell_type": "code",
   "execution_count": null,
   "id": "c88ee4b3-c12c-4aeb-9a6f-6cf991d4316a",
   "metadata": {},
   "outputs": [],
   "source": []
  },
  {
   "cell_type": "code",
   "execution_count": null,
   "id": "bbc95ce6-f911-4d02-8435-ac3b9977e3d6",
   "metadata": {},
   "outputs": [],
   "source": []
  },
  {
   "cell_type": "code",
   "execution_count": null,
   "id": "c7444e6c",
   "metadata": {},
   "outputs": [],
   "source": []
  },
  {
   "cell_type": "code",
   "execution_count": null,
   "id": "bbeec63c",
   "metadata": {},
   "outputs": [],
   "source": [
    "@pandas_udf(\n",
    "    \"Count long, Resampled long, Start timestamp, End timestamp\",\n",
    "    PandasUDFType.GROUPED_MAP,\n",
    ")\n",
    "def myudf(df):\n",
    "    df = df.dropna()\n",
    "    df = df.set_index(\"Timestamp\")\n",
    "    df.sort_index(inplace=True)\n",
    "\n",
    "    # resample the dataframe\n",
    "    resampled = pd.DataFrame()\n",
    "    oidx = df.index\n",
    "    nidx = pd.date_range(oidx.min(), oidx.max(), freq=\"30S\")\n",
    "    resampled[\"Value\"] = (\n",
    "        df.Value.reindex(oidx.union(nidx)).interpolate(\"index\").reindex(nidx)\n",
    "    )\n",
    "    return pd.DataFrame(\n",
    "        [[len(df.index), len(resampled.index), df.index.min(), df.index.max()]],\n",
    "        columns=[\"Count\", \"Resampled\", \"Start\", \"End\"],\n",
    "    )\n",
    "\n",
    "\n",
    "predictionStream = sensorStream.withWatermark(\"Timestamp\", \"90 minutes\").groupBy(\n",
    "    col(\"Name\"), window(col(\"Timestamp\"), \"70 minutes\", \"5 minutes\")\n",
    ")\n",
    "\n",
    "predictionStream.apply(myudf).writeStream.queryName(\"aggregates\").format(\n",
    "    \"memory\"\n",
    ").start()\n"
   ]
  },
  {
   "cell_type": "code",
   "execution_count": null,
   "id": "abe61ac1",
   "metadata": {},
   "outputs": [],
   "source": []
  },
  {
   "cell_type": "code",
   "execution_count": null,
   "id": "25408b39",
   "metadata": {},
   "outputs": [],
   "source": [
    "import time\n",
    "\n",
    "df = df.selectExpr(\"CAST(value AS STRING)\").selectExpr(\"CAST(value AS STRING)\")\n",
    "\n",
    "# Start running the query that prints the running counts to the console\n",
    "query = df.writeStream.format(\"console\").start()\n",
    "\n",
    "# # query.awaitTermination()\n",
    "\n",
    "time.sleep(10)  # sleep 10 seconds\n",
    "\n",
    "query.stop()\n"
   ]
  },
  {
   "cell_type": "code",
   "execution_count": null,
   "id": "1092b05a",
   "metadata": {},
   "outputs": [],
   "source": []
  },
  {
   "cell_type": "code",
   "execution_count": null,
   "id": "d2b3d0df",
   "metadata": {},
   "outputs": [],
   "source": []
  },
  {
   "cell_type": "code",
   "execution_count": null,
   "id": "4c3f1869",
   "metadata": {},
   "outputs": [],
   "source": []
  },
  {
   "cell_type": "code",
   "execution_count": null,
   "id": "d47b56ca",
   "metadata": {},
   "outputs": [],
   "source": [
    "query = values.writeStream \\\n",
    "    .format(\"json\") \\\n",
    "    .outputMode(\"append\")\n",
    "    .start(\"./topic.json\")\n",
    "    \n",
    "import time\n",
    "\n",
    "time.sleep(10) # sleep 10 seconds\n",
    "\n",
    "query.stop()"
   ]
  },
  {
   "cell_type": "code",
   "execution_count": null,
   "id": "e7fccd2a",
   "metadata": {},
   "outputs": [],
   "source": []
  },
  {
   "cell_type": "code",
   "execution_count": null,
   "id": "235eb7a2",
   "metadata": {},
   "outputs": [],
   "source": []
  },
  {
   "cell_type": "code",
   "execution_count": null,
   "id": "71bf0445",
   "metadata": {},
   "outputs": [],
   "source": []
  },
  {
   "cell_type": "code",
   "execution_count": null,
   "id": "24697bf2",
   "metadata": {},
   "outputs": [],
   "source": [
    "df.writeStream.format(\"console\").outputMode(\"append\").start().awaitTermination()\n"
   ]
  },
  {
   "cell_type": "code",
   "execution_count": null,
   "id": "b2bca932",
   "metadata": {},
   "outputs": [],
   "source": []
  },
  {
   "cell_type": "code",
   "execution_count": null,
   "id": "351c682f",
   "metadata": {},
   "outputs": [],
   "source": []
  },
  {
   "cell_type": "code",
   "execution_count": null,
   "id": "6b90f09d",
   "metadata": {
    "tags": []
   },
   "outputs": [],
   "source": [
    "spark.readStream \\\n",
    "    .format(\"kafka\") \\\n",
    "    .option(\"kafka.bootstrap.servers\", \"kafka-cluster-kafka-bootstrap:9092\") \\\n",
    "    .option(\"subscribe\", \"app_messages\") \\\n",
    "    .option(\"startingOffsets\", \"latest\") \\\n",
    "    .load() \\\n",
    "    .writeStream \\\n",
    "    .format(\"json\") \\\n",
    "    .outputMode(\"append\") \\ # .option(\"checkpointLocation\", bronze_checkpoint_loc_vehicle) \\\n",
    "    .start(\"topic.json\")"
   ]
  }
 ],
 "metadata": {
  "interpreter": {
   "hash": "23290619d6f4f5ecea54fd3814d63b8a6a2d2c019f5870989b08cbcfb848aa36"
  },
  "kernelspec": {
   "display_name": "Python 3.9.10 ('spark-ml-training-Z1-rjbZ7-py3.9')",
   "language": "python",
   "name": "python3"
  },
  "language_info": {
   "codemirror_mode": {
    "name": "ipython",
    "version": 3
   },
   "file_extension": ".py",
   "mimetype": "text/x-python",
   "name": "python",
   "nbconvert_exporter": "python",
   "pygments_lexer": "ipython3",
   "version": "3.9.10"
  }
 },
 "nbformat": 4,
 "nbformat_minor": 5
}
