{
 "cells": [
  {
   "cell_type": "code",
   "execution_count": null,
   "id": "d3ba7b97",
   "metadata": {
    "execution": {
     "iopub.execute_input": "2022-06-06T14:37:55.432726Z",
     "iopub.status.busy": "2022-06-06T14:37:55.432258Z"
    },
    "scrolled": true,
    "tags": []
   },
   "outputs": [
    {
     "name": "stderr",
     "output_type": "stream",
     "text": [
      "22/06/06 14:37:56 WARN Utils: Your hostname, carloshkayser resolves to a loopback address: 127.0.1.1; using 10.32.45.215 instead (on interface ens160)\n",
      "22/06/06 14:37:56 WARN Utils: Set SPARK_LOCAL_IP if you need to bind to another address\n",
      "WARNING: An illegal reflective access operation has occurred\n",
      "WARNING: Illegal reflective access by org.apache.spark.unsafe.Platform (file:/home/kayser/spark-3.2.1-bin-hadoop3.2/jars/spark-unsafe_2.12-3.2.1.jar) to constructor java.nio.DirectByteBuffer(long,int)\n",
      "WARNING: Please consider reporting this to the maintainers of org.apache.spark.unsafe.Platform\n",
      "WARNING: Use --illegal-access=warn to enable warnings of further illegal reflective access operations\n",
      "WARNING: All illegal access operations will be denied in a future release\n"
     ]
    },
    {
     "name": "stdout",
     "output_type": "stream",
     "text": [
      ":: loading settings :: url = jar:file:/home/kayser/spark-3.2.1-bin-hadoop3.2/jars/ivy-2.5.0.jar!/org/apache/ivy/core/settings/ivysettings.xml\n"
     ]
    },
    {
     "name": "stderr",
     "output_type": "stream",
     "text": [
      "Ivy Default Cache set to: /home/kayser/.ivy2/cache\n",
      "The jars for the packages stored in: /home/kayser/.ivy2/jars\n",
      "org.apache.spark#spark-streaming-kafka-0-10_2.12 added as a dependency\n",
      "org.apache.spark#spark-sql-kafka-0-10_2.12 added as a dependency\n",
      "org.postgresql#postgresql added as a dependency\n",
      ":: resolving dependencies :: org.apache.spark#spark-submit-parent-2fc6dc3a-6ccd-462b-be63-067fe7173aed;1.0\n",
      "\tconfs: [default]\n",
      "\tfound org.apache.spark#spark-streaming-kafka-0-10_2.12;3.2.0 in central\n",
      "\tfound org.apache.spark#spark-token-provider-kafka-0-10_2.12;3.2.0 in central\n",
      "\tfound org.apache.kafka#kafka-clients;2.8.0 in central\n",
      "\tfound org.lz4#lz4-java;1.7.1 in central\n",
      "\tfound org.xerial.snappy#snappy-java;1.1.8.4 in central\n",
      "\tfound org.slf4j#slf4j-api;1.7.30 in central\n",
      "\tfound org.apache.hadoop#hadoop-client-runtime;3.3.1 in central\n",
      "\tfound org.spark-project.spark#unused;1.0.0 in central\n",
      "\tfound org.apache.hadoop#hadoop-client-api;3.3.1 in central\n",
      "\tfound org.apache.htrace#htrace-core4;4.1.0-incubating in central\n",
      "\tfound commons-logging#commons-logging;1.1.3 in central\n",
      "\tfound com.google.code.findbugs#jsr305;3.0.0 in central\n",
      "\tfound org.apache.spark#spark-sql-kafka-0-10_2.12;3.2.0 in central\n",
      "\tfound org.apache.commons#commons-pool2;2.6.2 in central\n",
      "\tfound org.postgresql#postgresql;42.1.1 in central\n",
      ":: resolution report :: resolve 512ms :: artifacts dl 14ms\n",
      "\t:: modules in use:\n",
      "\tcom.google.code.findbugs#jsr305;3.0.0 from central in [default]\n",
      "\tcommons-logging#commons-logging;1.1.3 from central in [default]\n",
      "\torg.apache.commons#commons-pool2;2.6.2 from central in [default]\n",
      "\torg.apache.hadoop#hadoop-client-api;3.3.1 from central in [default]\n",
      "\torg.apache.hadoop#hadoop-client-runtime;3.3.1 from central in [default]\n",
      "\torg.apache.htrace#htrace-core4;4.1.0-incubating from central in [default]\n",
      "\torg.apache.kafka#kafka-clients;2.8.0 from central in [default]\n",
      "\torg.apache.spark#spark-sql-kafka-0-10_2.12;3.2.0 from central in [default]\n",
      "\torg.apache.spark#spark-streaming-kafka-0-10_2.12;3.2.0 from central in [default]\n",
      "\torg.apache.spark#spark-token-provider-kafka-0-10_2.12;3.2.0 from central in [default]\n",
      "\torg.lz4#lz4-java;1.7.1 from central in [default]\n",
      "\torg.postgresql#postgresql;42.1.1 from central in [default]\n",
      "\torg.slf4j#slf4j-api;1.7.30 from central in [default]\n",
      "\torg.spark-project.spark#unused;1.0.0 from central in [default]\n",
      "\torg.xerial.snappy#snappy-java;1.1.8.4 from central in [default]\n",
      "\t---------------------------------------------------------------------\n",
      "\t|                  |            modules            ||   artifacts   |\n",
      "\t|       conf       | number| search|dwnlded|evicted|| number|dwnlded|\n",
      "\t---------------------------------------------------------------------\n",
      "\t|      default     |   15  |   0   |   0   |   0   ||   15  |   0   |\n",
      "\t---------------------------------------------------------------------\n",
      ":: retrieving :: org.apache.spark#spark-submit-parent-2fc6dc3a-6ccd-462b-be63-067fe7173aed\n",
      "\tconfs: [default]\n",
      "\t0 artifacts copied, 15 already retrieved (0kB/9ms)\n",
      "22/06/06 14:37:57 WARN NativeCodeLoader: Unable to load native-hadoop library for your platform... using builtin-java classes where applicable\n",
      "Using Spark's default log4j profile: org/apache/spark/log4j-defaults.properties\n",
      "Setting default log level to \"WARN\".\n",
      "To adjust logging level use sc.setLogLevel(newLevel). For SparkR, use setLogLevel(newLevel).\n"
     ]
    }
   ],
   "source": [
    "from pyspark import SparkContext, SparkConf\n",
    "from pyspark.sql import SparkSession\n",
    "from pyspark.sql import functions as F\n",
    "\n",
    "import time\n",
    "import os\n",
    "\n",
    "os.environ[\n",
    "    \"PYSPARK_SUBMIT_ARGS\"\n",
    "] = \"--packages org.apache.spark:spark-streaming-kafka-0-10_2.12:3.2.0,org.apache.spark:spark-sql-kafka-0-10_2.12:3.2.0,org.postgresql:postgresql:42.1.1 pyspark-shell\"\n",
    "\n",
    "\n",
    "APP_NAME = os.getenv(\"APP_NAME\", \"spark-streaming-app\")\n",
    "MASTER = os.getenv(\"MASTER\", \"local[*]\")\n",
    "\n",
    "# MASTER = \"spark://carloshkayser:7077\"\n",
    "\n",
    "spark = SparkSession.builder.appName(\"APP_NAME\") \\\n",
    "    .master(MASTER) \\\n",
    "    .getOrCreate()\n",
    "\n",
    "spark"
   ]
  },
  {
   "cell_type": "code",
   "execution_count": null,
   "id": "8286dabe",
   "metadata": {
    "tags": []
   },
   "outputs": [],
   "source": [
    "df_raw = (\n",
    "    spark.readStream\n",
    "    .format(\"kafka\")\n",
    "    .option(\"kafka.bootstrap.servers\", \"localhost:9092\")\n",
    "    # .option(\"kafka.bootstrap.servers\", \"kafka-cluster-kafka-bootstrap:9092\")\n",
    "    .option(\"subscribe\", \"to_predict\")\n",
    "    .option(\"startingOffsets\", \"latest\")\n",
    "    .load()\n",
    ")"
   ]
  },
  {
   "cell_type": "code",
   "execution_count": null,
   "id": "a6008327",
   "metadata": {
    "tags": []
   },
   "outputs": [],
   "source": [
    "df_raw.printSchema()"
   ]
  },
  {
   "cell_type": "code",
   "execution_count": null,
   "id": "d9d2fb02-a207-410b-9575-2f4077bab353",
   "metadata": {
    "tags": []
   },
   "outputs": [],
   "source": [
    "from pyspark.sql.types import StructType, StructField, FloatType, StringType, LongType, IntegerType, DecimalType\n",
    "from pyspark.sql.functions import col, from_json, struct, to_json\n",
    "from pyspark.sql.functions import pandas_udf, PandasUDFType\n",
    "import pandas as pd\n",
    "import json\n",
    "import pickle\n",
    "\n",
    "# df_json = df.selectExpr('CAST(value AS STRING) as json')\n",
    "\n",
    "# {\n",
    "#   \"id\": 1.0079274744188029e+19,\n",
    "#   \"hour\": 14103100,\n",
    "#   \"C1\": 1005,\n",
    "#   \"banner_pos\": 0,\n",
    "#   \"site_id\": \"85f751fd\",\n",
    "#   \"site_domain\": \"c4e18dd6\",\n",
    "#   \"site_category\": \"50e219e0\",\n",
    "#   \"app_id\": \"febd1138\",\n",
    "#   \"app_domain\": \"82e27996\",\n",
    "#   \"app_category\": \"0f2161f8\",\n",
    "#   \"device_id\": \"a99f214a\",\n",
    "#   \"device_ip\": \"b72692c8\",\n",
    "#   \"device_model\": \"99e427c9\",\n",
    "#   \"device_type\": 1,\n",
    "#   \"device_conn_type\": 0,\n",
    "#   \"C14\": 21611,\n",
    "#   \"C15\": 320,\n",
    "#   \"C16\": 50,\n",
    "#   \"C17\": 2480,\n",
    "#   \"C18\": 3,\n",
    "#   \"C19\": 299,\n",
    "#   \"C20\": 100111,\n",
    "#   \"C21\": 61\n",
    "# }\n",
    "\n",
    "schema = StructType([\n",
    "    StructField('id', StringType(), True),\n",
    "    StructField(\"hour\", IntegerType(), True),\n",
    "    StructField(\"C1\", IntegerType(), True),\n",
    "    StructField(\"banner_pos\", IntegerType(), True),\n",
    "    StructField(\"site_id\", StringType(), True),\n",
    "    StructField(\"site_domain\", StringType(), True),\n",
    "    StructField(\"site_category\", StringType(), True),\n",
    "    StructField(\"app_id\", StringType(), True),\n",
    "    StructField(\"app_domain\", StringType(), True),\n",
    "    StructField(\"app_category\", StringType(), True),\n",
    "    StructField(\"device_id\", StringType(), True),\n",
    "    StructField(\"device_ip\", StringType(), True),\n",
    "    StructField(\"device_model\", StringType(), True),\n",
    "    StructField(\"device_type\", IntegerType(), True),\n",
    "    StructField(\"device_conn_type\", IntegerType(), True),\n",
    "    StructField(\"C14\", IntegerType(), True),\n",
    "    StructField(\"C15\", IntegerType(), True),\n",
    "    StructField(\"C16\", IntegerType(), True),\n",
    "    StructField(\"C17\", IntegerType(), True),\n",
    "    StructField(\"C18\", IntegerType(), True),\n",
    "    StructField(\"C19\", IntegerType(), True),\n",
    "    StructField(\"C20\", IntegerType(), True),\n",
    "    StructField(\"C21\", IntegerType(), True)\n",
    "])\n"
   ]
  },
  {
   "cell_type": "code",
   "execution_count": null,
   "id": "b073d71f-22d7-4634-ac56-dd82968f3b3a",
   "metadata": {
    "tags": []
   },
   "outputs": [],
   "source": [
    "df = df_raw.selectExpr(\"CAST(value AS STRING)\") \\\n",
    "    .select(from_json(\"value\", schema).alias(\"data\")) \\\n",
    "    .select(\"data.*\")\n",
    "\n",
    "df = df.withColumn(\"id\", df.id.cast(DecimalType(38, 0)))\n",
    "\n",
    "df.printSchema()"
   ]
  },
  {
   "cell_type": "code",
   "execution_count": null,
   "id": "2aee818c-e80d-4c05-ab54-98b1d2e36097",
   "metadata": {
    "tags": []
   },
   "outputs": [],
   "source": []
  },
  {
   "cell_type": "code",
   "execution_count": null,
   "id": "944ed333-2f03-4e74-b326-eaa7cf550595",
   "metadata": {},
   "outputs": [],
   "source": []
  },
  {
   "cell_type": "code",
   "execution_count": null,
   "id": "60393740-2f87-4fef-b611-40add528fa27",
   "metadata": {
    "tags": []
   },
   "outputs": [],
   "source": [
    "from pyspark.ml import PipelineModel\n",
    "\n",
    "pipelineModel = PipelineModel.load(\"model/spark-logistic-regression-model\")"
   ]
  },
  {
   "cell_type": "code",
   "execution_count": null,
   "id": "24c16719-46d3-454b-84d6-3efe17cb1b73",
   "metadata": {
    "tags": []
   },
   "outputs": [],
   "source": [
    "# We transform the data.\n",
    "results = pipelineModel.transform(df)\n",
    "\n",
    "# # We select the actual label, probability and predictions\n",
    "# trainingPred.select('label', 'probability', 'prediction').show()"
   ]
  },
  {
   "cell_type": "code",
   "execution_count": null,
   "id": "6c5af085-e999-4875-97f0-da7aabfff505",
   "metadata": {
    "tags": []
   },
   "outputs": [],
   "source": [
    "results.printSchema()"
   ]
  },
  {
   "cell_type": "code",
   "execution_count": null,
   "id": "c1bd868c-a3a6-4c8a-9b53-57ba97072cbd",
   "metadata": {
    "tags": []
   },
   "outputs": [],
   "source": [
    "# results = results.withColumn('id', results.id.cast(\"Decimal(10,0)\")) # results.id.cast(LongType()))"
   ]
  },
  {
   "cell_type": "code",
   "execution_count": null,
   "id": "2525f651-7675-4f47-a556-afd0208e0ae8",
   "metadata": {
    "tags": []
   },
   "outputs": [],
   "source": [
    "from pyspark.sql.types import StructType, StructField, FloatType, StringType, LongType, IntegerType, DoubleType\n",
    "from pyspark.sql.functions import split, regexp_replace, current_date, unix_timestamp, lit, current_timestamp\n",
    "\n",
    "# results = results.withColumn('timestamp', unix_timestamp(lit(timestamp),'yyyy-MM-dd HH:mm:ss').cast(\"timestamp\"))\n",
    "\n",
    "results = results.withColumn('processed_at', current_timestamp())\n",
    "\n",
    "results = results.withColumn(\"probability\", results[\"probability\"].cast(\"String\")) \\\n",
    "    .withColumn('probabilityre', split(regexp_replace(\"probability\", \"^\\[|\\]\", \"\"), \",\")[1].cast(DoubleType())) \\\n",
    "    .select(\"id\", \"probabilityre\", \"processed_at\").withColumnRenamed(\"probabilityre\", \"probability\")\n",
    "\n",
    "results_kafka = results.select(to_json(struct(\"id\", \"probability\")).alias(\"value\")) # .select(to_json(struct(\"teste\", \"probability\")).alias(\"value\"))\n",
    "\n",
    "results_postgres = results.select(\"id\", \"probability\", \"processed_at\") # .select(to_json(struct(\"teste\", \"probability\")).alias(\"value\"))"
   ]
  },
  {
   "cell_type": "code",
   "execution_count": null,
   "id": "be6ab2f1-8892-4057-82bb-73315c6921f8",
   "metadata": {
    "tags": []
   },
   "outputs": [],
   "source": [
    "# results = results.select(to_json(struct(results.columns)).alias(\"value\"))\n",
    "# results = results.withColumnRenamed(\"id\", \"_id\").select(to_json(struct(\"_id\", \"probability\", \"prediction\")).alias(\"value\"))\n",
    "# results = results.selectExpr(\"CAST(collect_list(to_json(struct(*))) AS STRING) AS value\")\n",
    "# results = results.selectExpr(\"CAST(to_json(struct(*)) AS STRING) AS value\")"
   ]
  },
  {
   "cell_type": "code",
   "execution_count": null,
   "id": "3592aea8-f06c-41be-8de0-4033cf930de1",
   "metadata": {
    "tags": []
   },
   "outputs": [],
   "source": [
    "results_postgres.printSchema()"
   ]
  },
  {
   "cell_type": "code",
   "execution_count": null,
   "id": "5332f99b-a345-4383-94f5-885391a53c50",
   "metadata": {
    "tags": []
   },
   "outputs": [],
   "source": [
    "# import time\n",
    "\n",
    "# query = df.select(to_json(struct(\"id\", \"hour\", \"C1\")).alias(\"value\")) \\\n",
    "#     .writeStream \\\n",
    "#     .format(\"console\") \\\n",
    "#     .start()\n",
    "\n",
    "# time.sleep(10) # sleep 10 seconds\n",
    "\n",
    "# query.stop()"
   ]
  },
  {
   "cell_type": "code",
   "execution_count": null,
   "id": "437a2c69-ec34-4c52-bb28-b4a861f08fcf",
   "metadata": {
    "tags": []
   },
   "outputs": [],
   "source": [
    "# import time\n",
    "\n",
    "# query = results \\\n",
    "#     .writeStream \\\n",
    "#     .format(\"console\") \\\n",
    "#     .start()\n",
    "\n",
    "# time.sleep(10) # sleep 10 seconds\n",
    "\n",
    "# query.stop()"
   ]
  },
  {
   "cell_type": "code",
   "execution_count": null,
   "id": "17adfa7a-858a-4f25-966f-7e9e3f002413",
   "metadata": {},
   "outputs": [],
   "source": []
  },
  {
   "cell_type": "code",
   "execution_count": null,
   "id": "a0548163-9ba2-4b3d-8e6d-3db8ef943a6c",
   "metadata": {},
   "outputs": [],
   "source": []
  },
  {
   "cell_type": "code",
   "execution_count": null,
   "id": "2d2a08c6-d78e-4f90-9954-7d83b6ac36bb",
   "metadata": {
    "tags": []
   },
   "outputs": [],
   "source": [
    "def foreach_batch_function(df, epoch_id):\n",
    "\n",
    "    print(df.toPandas())\n",
    "    \n",
    "    df.write \\\n",
    "        .format(\"jdbc\") \\\n",
    "        .option(\"url\", \"jdbc:postgresql://localhost:5432/postgres\") \\\n",
    "        .option(\"driver\", \"org.postgresql.Driver\") \\\n",
    "        .option(\"dbtable\", \"predictions\") \\\n",
    "        .option(\"user\", \"postgres\") \\\n",
    "        .option(\"password\", \"postgres\") \\\n",
    "        .mode('append') \\\n",
    "        .save()\n",
    "\n",
    "# write_to_postgres = \n",
    "results_postgres.writeStream \\\n",
    "    .foreachBatch(foreach_batch_function) \\\n",
    "    .option(\"checkpointLocation\", \"/home/kayser/temp\") \\\n",
    "    .outputMode(\"update\") \\\n",
    "    .start()\n",
    "    # .awaitTermination()\n",
    "\n",
    "# write_to_postgres.awaitTermination()"
   ]
  },
  {
   "cell_type": "code",
   "execution_count": null,
   "id": "68e83dbe-9c6a-417f-ba19-cb562e35543a",
   "metadata": {},
   "outputs": [],
   "source": []
  },
  {
   "cell_type": "code",
   "execution_count": null,
   "id": "a676e245-c111-47f2-8e66-714f4c355b03",
   "metadata": {},
   "outputs": [],
   "source": [
    "stop"
   ]
  },
  {
   "cell_type": "code",
   "execution_count": null,
   "id": "e553b9fb-9c09-4340-8451-b0e95f653bc2",
   "metadata": {
    "tags": []
   },
   "outputs": [],
   "source": [
    "# Write to Kafka topic\n",
    "\n",
    "results_kafka.writeStream \\\n",
    "    .format(\"kafka\") \\\n",
    "    .option(\"kafka.bootstrap.servers\", \"localhost:9092\") \\\n",
    "    .option(\"topic\", \"predictions\") \\\n",
    "    .option(\"checkpointLocation\", \"/home/kayser/temp\") \\\n",
    "    .outputMode(\"Append\") \\\n",
    "    .start()\n",
    "    # .awaitTermination()\n"
   ]
  },
  {
   "cell_type": "code",
   "execution_count": null,
   "id": "ad7d6ae4-c289-4e30-ab41-b40cc7f94581",
   "metadata": {},
   "outputs": [],
   "source": []
  },
  {
   "cell_type": "code",
   "execution_count": null,
   "id": "cfa84f86-ab72-4ea1-baf4-151ac3a215b6",
   "metadata": {},
   "outputs": [],
   "source": [
    "stop"
   ]
  },
  {
   "cell_type": "code",
   "execution_count": null,
   "id": "d5a3b79a-b037-44bc-a4f5-98fcf211139d",
   "metadata": {},
   "outputs": [],
   "source": [
    "class PostgresSink:\n",
    "    \n",
    "    def __init__(self, jdbc: str):\n",
    "        "
   ]
  },
  {
   "cell_type": "code",
   "execution_count": null,
   "id": "24e2b0bc-2448-425a-9435-4823b4c088d0",
   "metadata": {},
   "outputs": [],
   "source": [
    "!wget https://jdbc.postgresql.org/download/postgresql-42.2.6.jar"
   ]
  },
  {
   "cell_type": "code",
   "execution_count": null,
   "id": "37a91c3e-22c3-4f83-bfb0-5e251a7ce46f",
   "metadata": {},
   "outputs": [],
   "source": []
  },
  {
   "cell_type": "code",
   "execution_count": null,
   "id": "4eeeebac-60e9-4bfe-bbef-ff3a961a5466",
   "metadata": {},
   "outputs": [],
   "source": []
  },
  {
   "cell_type": "code",
   "execution_count": null,
   "id": "71fc50ca-fd9e-4673-a297-f496c04b532e",
   "metadata": {},
   "outputs": [],
   "source": []
  },
  {
   "cell_type": "code",
   "execution_count": null,
   "id": "16cf7378-f1c2-449b-84da-6bf4ceadcf9b",
   "metadata": {},
   "outputs": [],
   "source": []
  },
  {
   "cell_type": "code",
   "execution_count": null,
   "id": "ad618be9-2ad5-4444-8684-b44197536be8",
   "metadata": {},
   "outputs": [],
   "source": []
  },
  {
   "cell_type": "code",
   "execution_count": null,
   "id": "d98076af-c818-4417-82a0-5f241f828edf",
   "metadata": {},
   "outputs": [],
   "source": []
  },
  {
   "cell_type": "code",
   "execution_count": null,
   "id": "7abebc5a-7238-48fb-8b89-89d737324c21",
   "metadata": {},
   "outputs": [],
   "source": []
  },
  {
   "cell_type": "code",
   "execution_count": null,
   "id": "561ab63a",
   "metadata": {
    "tags": []
   },
   "outputs": [],
   "source": [
    "# Read machine learning model\n",
    "\n",
    "\n",
    "# model_features = [0, 1, 2, 3, 4, 5, 6, 7, 8, 9, 10, 11, 12, 13, 14, 15, 16, 17, 18, 19, 20]\n",
    "\n",
    "with open('model/catboost-classifier.pickle', 'rb') as handle:\n",
    "    model = pickle.load(handle)\n",
    "\n",
    "@pandas_udf(FloatType())\n",
    "def predict(row: pd.Series) -> pd.Series:\n",
    "    \n",
    "    print('columns', row.columns)\n",
    "    for i, v in row.iteritems():\n",
    "        print('index: ', i, 'value: ', v)\n",
    "    \n",
    "    if row is None:\n",
    "        return\n",
    "    \n",
    "    # d = json.loads(row)\n",
    "    # data = pd.DataFrame.from_dict(d, orient = \"index\").transpose()  \n",
    "    \n",
    "    return model.predict(\n",
    "        row,\n",
    "        prediction_type='Probability', \n",
    "        ntree_start=0, ntree_end=model.get_best_iteration(), \n",
    "        thread_count=-1\n",
    "    )\n",
    "\n",
    "# from pyspark.sql.functions import udf\n",
    "# predict_udf = udf(predict, StringType())"
   ]
  },
  {
   "cell_type": "code",
   "execution_count": null,
   "id": "f75caab7-f75c-4805-b820-d97ff39c9c6c",
   "metadata": {},
   "outputs": [],
   "source": []
  },
  {
   "cell_type": "code",
   "execution_count": null,
   "id": "f057501c-700a-4e50-a2c9-355e452e9c4b",
   "metadata": {},
   "outputs": [],
   "source": []
  },
  {
   "cell_type": "code",
   "execution_count": null,
   "id": "25eccfa4-6326-4d19-a6fc-24550f914128",
   "metadata": {},
   "outputs": [],
   "source": []
  },
  {
   "cell_type": "code",
   "execution_count": null,
   "id": "c3beabcc-9065-4c97-9e28-0003d1b3ccd6",
   "metadata": {},
   "outputs": [],
   "source": []
  },
  {
   "cell_type": "code",
   "execution_count": null,
   "id": "bba94363-4605-4b2c-b904-6a7c5b78d573",
   "metadata": {
    "tags": []
   },
   "outputs": [],
   "source": [
    "# dfInt = spark \\\n",
    "#     .readStream \\\n",
    "#     .load() \\\n",
    "#     .selectExpr(\"cast (body as string) as json\") \\\n",
    "#     .select(from_json(\"json\",schema).alias(\"data\")) \\\n",
    "#     .withColumn(\"k\", expr(\"uuid()\")) \\\n",
    "#     .select(\"key\", explode(\"data.features\").alias(\"feat\")) \\\n",
    "#     .select(\"feat.*\", \"key\") \\\n",
    "#     .groupBy(\"k\") \\\n",
    "#     .agg(*expressions) \\\n",
    "#     .drop(\"k\") \\\n",
    "#     .na.drop() \\\n",
    "#     .withColumn(\"prediction\", predict( (F.struct([col(x) for x in (features)]))))"
   ]
  },
  {
   "cell_type": "code",
   "execution_count": null,
   "id": "15708113-d44e-4139-939c-7a33823a42ff",
   "metadata": {
    "tags": []
   },
   "outputs": [],
   "source": [
    "features = ['hour',\n",
    " 'C1',\n",
    " 'banner_pos',\n",
    " 'site_id',\n",
    " 'site_domain',\n",
    " 'site_category',\n",
    " 'app_id',\n",
    " 'app_domain',\n",
    " 'app_category',\n",
    " 'device_id',\n",
    " 'device_ip',\n",
    " 'device_model',\n",
    " 'device_type',\n",
    " 'device_conn_type',\n",
    " 'C14',\n",
    " 'C15',\n",
    " 'C16',\n",
    " 'C17',\n",
    " 'C18',\n",
    " 'C19',\n",
    " 'C20']\n",
    "\n",
    "columns = ['hour', 'C1', 'banner_pos', 'site_id', 'site_domain', 'site_category',\n",
    "       'app_id', 'app_domain', 'app_category', 'device_id', 'device_ip',\n",
    "       'device_model', 'device_type', 'device_conn_type', 'C14', 'C15', 'C16',\n",
    "       'C17', 'C18', 'C19', 'C20', 'C21']\n",
    "\n",
    "# df_result = df.withColumn(\"prediction\", predict((struct([col(x) for x in features]))))\n",
    "\n",
    "# df_result = df.select([col(x) for x in features])\n",
    "\n",
    "df_result = df.withColumn(\"prediction\", predict((struct([col(x) for x in columns]))))"
   ]
  },
  {
   "cell_type": "code",
   "execution_count": null,
   "id": "4008b51b-b3b1-4876-a6d0-7d8368bd146a",
   "metadata": {
    "tags": []
   },
   "outputs": [],
   "source": [
    "\n",
    "\n",
    "# Create Temp View\n",
    "# df.createOrReplaceTempView(\"dataframe\")\n",
    "\n",
    "# # Apply UDF in SQL query.\n",
    "# df_results = spark.sql(f\"select predict({', '.join(features)}) as score from dataframe\")\n",
    "\n",
    "# df_results = df_json.select(predict_udf(\"json\").alias(\"value\"))"
   ]
  },
  {
   "cell_type": "code",
   "execution_count": null,
   "id": "e4271254-fbb6-47d8-9110-37b56c7bca96",
   "metadata": {
    "tags": []
   },
   "outputs": [],
   "source": [
    "# Start streaming on console\n",
    "\n",
    "# df.writeStream \\\n",
    "#       .format(\"console\") \\\n",
    "#       .start() \\\n",
    "#       .awaitTermination()\n",
    "\n",
    "query = df_result \\\n",
    "    .writeStream \\\n",
    "    .format(\"console\") \\\n",
    "    .start()\n",
    "\n",
    "# query = df_result.writeStream \\\n",
    "#   .format(\"csv\") \\\n",
    "#   .option(\"checkpointLocation\", \"checkpoint/\") \\\n",
    "#   .option(\"path\", \"data/\") \\\n",
    "#   .outputMode(\"append\") \\\n",
    "#   .start()\n",
    "\n",
    "time.sleep(10) # sleep 10 seconds\n",
    "\n",
    "query.stop()"
   ]
  },
  {
   "cell_type": "code",
   "execution_count": null,
   "id": "da2961c3-5b02-4241-8498-fc7a0907552e",
   "metadata": {},
   "outputs": [],
   "source": [
    "stop"
   ]
  },
  {
   "cell_type": "code",
   "execution_count": null,
   "id": "994efd04-d7a7-488d-b4cd-ff45c61566d4",
   "metadata": {},
   "outputs": [],
   "source": []
  },
  {
   "cell_type": "code",
   "execution_count": null,
   "id": "4e321e92-5dc8-4a69-b46c-dc3a2d910549",
   "metadata": {},
   "outputs": [],
   "source": [
    "# # read from Kafka \n",
    "# df = spark.readStream.format(\"kafka\") \n",
    "#   .option(\"kafka.bootstrap.servers\", \"{external_ip}:9092\") \n",
    "#   .option(\"subscribe\", \"dsp\").load() \n",
    "# # select the value field and apply the UDF     \n",
    "# df = df.selectExpr(\"CAST(value AS STRING)\")\n",
    "# score_udf = udf(score, StringType())    \n",
    "# df = df.select( score_udf(\"value\").alias(\"value\"))\n",
    "# # Write results to Kafka \n",
    "# query = df.writeStream.format(\"kafka\") \n",
    "#   .option(\"kafka.bootstrap.servers\", \"{external_ip}:9092\") \n",
    "#   .option(\"topic\", \"preds\") \n",
    "#   .option(\"checkpointLocation\", \"/temp\").start()"
   ]
  },
  {
   "cell_type": "code",
   "execution_count": null,
   "id": "49bfc109-33cc-4550-9626-fbf47901f932",
   "metadata": {},
   "outputs": [],
   "source": []
  },
  {
   "cell_type": "code",
   "execution_count": null,
   "id": "75bee8ef",
   "metadata": {
    "tags": []
   },
   "outputs": [],
   "source": []
  },
  {
   "cell_type": "code",
   "execution_count": null,
   "id": "1f6336e1-c5e2-40a0-837e-6018205aec92",
   "metadata": {},
   "outputs": [],
   "source": []
  },
  {
   "cell_type": "code",
   "execution_count": null,
   "id": "e363b352-9c8c-4a77-8ba0-3ce479c28708",
   "metadata": {},
   "outputs": [],
   "source": []
  },
  {
   "cell_type": "code",
   "execution_count": null,
   "id": "3e7f0b82-8be7-4688-b56f-0d025cbc5507",
   "metadata": {},
   "outputs": [],
   "source": []
  },
  {
   "cell_type": "code",
   "execution_count": null,
   "id": "d395d4fc-7cc9-486b-bf50-3b4baf9f3b5a",
   "metadata": {},
   "outputs": [],
   "source": []
  },
  {
   "cell_type": "code",
   "execution_count": null,
   "id": "c3d5e6ff-bcd3-4390-8d95-a68616fd4597",
   "metadata": {},
   "outputs": [],
   "source": []
  },
  {
   "cell_type": "code",
   "execution_count": null,
   "id": "ae35b8b1",
   "metadata": {
    "tags": []
   },
   "outputs": [],
   "source": []
  },
  {
   "cell_type": "code",
   "execution_count": null,
   "id": "d798837b",
   "metadata": {},
   "outputs": [],
   "source": [
    "# df = df.select('request_id', \\\n",
    "#     F.col('data').getItem('CPU').alias('CPU'), \\\n",
    "#     F.col('data').getItem('memory').alias('memory'), \\\n",
    "#     F.col('data').getItem('disk').alias('disk'))\n",
    "\n",
    "# df.printSchema()"
   ]
  },
  {
   "cell_type": "code",
   "execution_count": null,
   "id": "7af89efe",
   "metadata": {
    "tags": []
   },
   "outputs": [],
   "source": [
    "# Start streaming on console\n",
    "\n",
    "# df.writeStream \\\n",
    "#       .format(\"console\") \\\n",
    "#       .start() \\\n",
    "#       .awaitTermination()\n",
    "\n",
    "query = df \\\n",
    "    .writeStream \\\n",
    "    .format(\"console\") \\\n",
    "    .start()\n",
    "\n",
    "time.sleep(10) # sleep 10 seconds\n",
    "\n",
    "query.stop()"
   ]
  },
  {
   "cell_type": "code",
   "execution_count": null,
   "id": "b8e4c543",
   "metadata": {},
   "outputs": [],
   "source": [
    "stop"
   ]
  },
  {
   "cell_type": "code",
   "execution_count": null,
   "id": "508dc702",
   "metadata": {},
   "outputs": [],
   "source": []
  },
  {
   "cell_type": "code",
   "execution_count": null,
   "id": "ff3a30fa-7b2a-4c56-8d41-a5acf1e31778",
   "metadata": {},
   "outputs": [],
   "source": []
  },
  {
   "cell_type": "code",
   "execution_count": null,
   "id": "61f3bdd4-3dbb-4dc1-aef8-de81db9f7ed5",
   "metadata": {},
   "outputs": [],
   "source": []
  },
  {
   "cell_type": "code",
   "execution_count": null,
   "id": "b457b145-13ea-48b6-9255-eb016df671cf",
   "metadata": {},
   "outputs": [],
   "source": [
    "!pip install scipy"
   ]
  },
  {
   "cell_type": "code",
   "execution_count": null,
   "id": "8dfc3e46",
   "metadata": {
    "tags": []
   },
   "outputs": [],
   "source": []
  },
  {
   "cell_type": "code",
   "execution_count": null,
   "id": "074ade76-9cf7-4a0b-a58b-ca7d30220d92",
   "metadata": {},
   "outputs": [],
   "source": []
  },
  {
   "cell_type": "code",
   "execution_count": null,
   "id": "a99c34e0-0469-44e3-b480-7710bb164872",
   "metadata": {},
   "outputs": [],
   "source": [
    "# Create Temp View\n",
    "df.createOrReplaceTempView(\"dataframe\")\n",
    "\n",
    "# Apply UDF in SQL query.\n",
    "resultDF = spark.sql(\"select predict(*) as up_down_udf from dataframe\")"
   ]
  },
  {
   "cell_type": "code",
   "execution_count": null,
   "id": "b02cc1b3-76ef-4c2a-937c-ff6ff53789c8",
   "metadata": {},
   "outputs": [],
   "source": []
  },
  {
   "cell_type": "code",
   "execution_count": null,
   "id": "c88ee4b3-c12c-4aeb-9a6f-6cf991d4316a",
   "metadata": {},
   "outputs": [],
   "source": []
  },
  {
   "cell_type": "code",
   "execution_count": null,
   "id": "bbc95ce6-f911-4d02-8435-ac3b9977e3d6",
   "metadata": {},
   "outputs": [],
   "source": []
  },
  {
   "cell_type": "code",
   "execution_count": null,
   "id": "c7444e6c",
   "metadata": {},
   "outputs": [],
   "source": []
  },
  {
   "cell_type": "code",
   "execution_count": null,
   "id": "bbeec63c",
   "metadata": {},
   "outputs": [],
   "source": [
    "@pandas_udf(\"Count long, Resampled long, Start timestamp, End timestamp\", PandasUDFType.GROUPED_MAP)\n",
    "def myudf(df):\n",
    "  df = df.dropna()\n",
    "  df = df.set_index(\"Timestamp\")\n",
    "  df.sort_index(inplace=True)\n",
    "\n",
    "  # resample the dataframe\n",
    "  resampled = pd.DataFrame()\n",
    "  oidx = df.index\n",
    "  nidx = pd.date_range(oidx.min(), oidx.max(), freq=\"30S\")\n",
    "  resampled[\"Value\"] = df.Value.reindex(oidx.union(nidx)).interpolate('index').reindex(nidx)\n",
    "  return pd.DataFrame([[len(df.index), len(resampled.index), df.index.min(), df.index.max()]], columns=[\"Count\", \"Resampled\", \"Start\", \"End\"])\n",
    "\n",
    "predictionStream = sensorStream.withWatermark(\"Timestamp\", \"90 minutes\").groupBy(col(\"Name\"), window(col(\"Timestamp\"), \"70 minutes\", \"5 minutes\"))\n",
    "\n",
    "predictionStream.apply(myudf).writeStream \\\n",
    "    .queryName(\"aggregates\") \\\n",
    "    .format(\"memory\") \\\n",
    "    .start()"
   ]
  },
  {
   "cell_type": "code",
   "execution_count": null,
   "id": "abe61ac1",
   "metadata": {},
   "outputs": [],
   "source": []
  },
  {
   "cell_type": "code",
   "execution_count": null,
   "id": "25408b39",
   "metadata": {},
   "outputs": [],
   "source": [
    "import time\n",
    "\n",
    "df = df.selectExpr(\"CAST(value AS STRING)\").selectExpr(\"CAST(value AS STRING)\")\n",
    "\n",
    "# Start running the query that prints the running counts to the console\n",
    "query = df \\\n",
    "    .writeStream \\\n",
    "    .format(\"console\") \\\n",
    "    .start()\n",
    "\n",
    "# # query.awaitTermination()\n",
    "\n",
    "time.sleep(10) # sleep 10 seconds\n",
    "\n",
    "query.stop()"
   ]
  },
  {
   "cell_type": "code",
   "execution_count": null,
   "id": "1092b05a",
   "metadata": {},
   "outputs": [],
   "source": []
  },
  {
   "cell_type": "code",
   "execution_count": null,
   "id": "d2b3d0df",
   "metadata": {},
   "outputs": [],
   "source": []
  },
  {
   "cell_type": "code",
   "execution_count": null,
   "id": "4c3f1869",
   "metadata": {},
   "outputs": [],
   "source": []
  },
  {
   "cell_type": "code",
   "execution_count": null,
   "id": "d47b56ca",
   "metadata": {},
   "outputs": [],
   "source": [
    "query = values.writeStream \\\n",
    "    .format(\"json\") \\\n",
    "    .outputMode(\"append\")\n",
    "    .start(\"./topic.json\")\n",
    "    \n",
    "import time\n",
    "\n",
    "time.sleep(10) # sleep 10 seconds\n",
    "\n",
    "query.stop()"
   ]
  },
  {
   "cell_type": "code",
   "execution_count": null,
   "id": "e7fccd2a",
   "metadata": {},
   "outputs": [],
   "source": []
  },
  {
   "cell_type": "code",
   "execution_count": null,
   "id": "235eb7a2",
   "metadata": {},
   "outputs": [],
   "source": []
  },
  {
   "cell_type": "code",
   "execution_count": null,
   "id": "71bf0445",
   "metadata": {},
   "outputs": [],
   "source": []
  },
  {
   "cell_type": "code",
   "execution_count": null,
   "id": "24697bf2",
   "metadata": {},
   "outputs": [],
   "source": [
    "df.writeStream \\\n",
    "      .format(\"console\") \\\n",
    "      .outputMode(\"append\") \\\n",
    "      .start() \\\n",
    "      .awaitTermination()"
   ]
  },
  {
   "cell_type": "code",
   "execution_count": null,
   "id": "b2bca932",
   "metadata": {},
   "outputs": [],
   "source": []
  },
  {
   "cell_type": "code",
   "execution_count": null,
   "id": "351c682f",
   "metadata": {},
   "outputs": [],
   "source": []
  },
  {
   "cell_type": "code",
   "execution_count": null,
   "id": "6b90f09d",
   "metadata": {
    "tags": []
   },
   "outputs": [],
   "source": [
    "spark.readStream \\\n",
    "    .format(\"kafka\") \\\n",
    "    .option(\"kafka.bootstrap.servers\", \"kafka-cluster-kafka-bootstrap:9092\") \\\n",
    "    .option(\"subscribe\", \"app_messages\") \\\n",
    "    .option(\"startingOffsets\", \"latest\") \\\n",
    "    .load() \\\n",
    "    .writeStream \\\n",
    "    .format(\"json\") \\\n",
    "    .outputMode(\"append\") \\ # .option(\"checkpointLocation\", bronze_checkpoint_loc_vehicle) \\\n",
    "    .start(\"topic.json\")"
   ]
  }
 ],
 "metadata": {
  "interpreter": {
   "hash": "8dac3e0f488848b5f61d0eff2ec329dae66455ff49cdb7bac6ac065099647a71"
  },
  "kernelspec": {
   "display_name": "Python 3",
   "language": "python",
   "name": "python3"
  },
  "language_info": {
   "codemirror_mode": {
    "name": "ipython",
    "version": 3
   },
   "file_extension": ".py",
   "mimetype": "text/x-python",
   "name": "python",
   "nbconvert_exporter": "python",
   "pygments_lexer": "ipython3",
   "version": "3.9.10"
  }
 },
 "nbformat": 4,
 "nbformat_minor": 5
}
