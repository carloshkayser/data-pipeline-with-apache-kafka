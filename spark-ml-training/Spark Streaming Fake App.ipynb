{
 "cells": [
  {
   "cell_type": "code",
   "execution_count": 1,
   "id": "d3ba7b97",
   "metadata": {
    "execution": {
     "iopub.execute_input": "2022-06-02T16:22:10.918474Z",
     "iopub.status.busy": "2022-06-02T16:22:10.918030Z",
     "iopub.status.idle": "2022-06-02T16:22:17.677554Z",
     "shell.execute_reply": "2022-06-02T16:22:17.676488Z",
     "shell.execute_reply.started": "2022-06-02T16:22:10.918385Z"
    },
    "scrolled": true,
    "tags": []
   },
   "outputs": [
    {
     "name": "stderr",
     "output_type": "stream",
     "text": [
      "WARNING: An illegal reflective access operation has occurred\n",
      "WARNING: Illegal reflective access by org.apache.spark.unsafe.Platform (file:/home/carlos/.cache/pypoetry/virtualenvs/spark-ml-training-gphMGkfa-py3.10/lib/python3.10/site-packages/pyspark/jars/spark-unsafe_2.12-3.2.0.jar) to constructor java.nio.DirectByteBuffer(long,int)\n",
      "WARNING: Please consider reporting this to the maintainers of org.apache.spark.unsafe.Platform\n",
      "WARNING: Use --illegal-access=warn to enable warnings of further illegal reflective access operations\n",
      "WARNING: All illegal access operations will be denied in a future release\n"
     ]
    },
    {
     "name": "stdout",
     "output_type": "stream",
     "text": [
      ":: loading settings :: url = jar:file:/home/carlos/.cache/pypoetry/virtualenvs/spark-ml-training-gphMGkfa-py3.10/lib/python3.10/site-packages/pyspark/jars/ivy-2.5.0.jar!/org/apache/ivy/core/settings/ivysettings.xml\n"
     ]
    },
    {
     "name": "stderr",
     "output_type": "stream",
     "text": [
      "Ivy Default Cache set to: /home/carlos/.ivy2/cache\n",
      "The jars for the packages stored in: /home/carlos/.ivy2/jars\n",
      "org.apache.spark#spark-streaming-kafka-0-10_2.12 added as a dependency\n",
      "org.apache.spark#spark-sql-kafka-0-10_2.12 added as a dependency\n",
      ":: resolving dependencies :: org.apache.spark#spark-submit-parent-e1881416-dae9-4e93-baad-1b523f9f7112;1.0\n",
      "\tconfs: [default]\n",
      "\tfound org.apache.spark#spark-streaming-kafka-0-10_2.12;3.2.0 in central\n",
      "\tfound org.apache.spark#spark-token-provider-kafka-0-10_2.12;3.2.0 in central\n",
      "\tfound org.apache.kafka#kafka-clients;2.8.0 in central\n",
      "\tfound org.lz4#lz4-java;1.7.1 in central\n",
      "\tfound org.xerial.snappy#snappy-java;1.1.8.4 in central\n",
      "\tfound org.slf4j#slf4j-api;1.7.30 in central\n",
      "\tfound org.apache.hadoop#hadoop-client-runtime;3.3.1 in central\n",
      "\tfound org.spark-project.spark#unused;1.0.0 in central\n",
      "\tfound org.apache.hadoop#hadoop-client-api;3.3.1 in central\n",
      "\tfound org.apache.htrace#htrace-core4;4.1.0-incubating in central\n",
      "\tfound commons-logging#commons-logging;1.1.3 in central\n",
      "\tfound com.google.code.findbugs#jsr305;3.0.0 in central\n",
      "\tfound org.apache.spark#spark-sql-kafka-0-10_2.12;3.2.0 in central\n",
      "\tfound org.apache.commons#commons-pool2;2.6.2 in central\n",
      ":: resolution report :: resolve 764ms :: artifacts dl 19ms\n",
      "\t:: modules in use:\n",
      "\tcom.google.code.findbugs#jsr305;3.0.0 from central in [default]\n",
      "\tcommons-logging#commons-logging;1.1.3 from central in [default]\n",
      "\torg.apache.commons#commons-pool2;2.6.2 from central in [default]\n",
      "\torg.apache.hadoop#hadoop-client-api;3.3.1 from central in [default]\n",
      "\torg.apache.hadoop#hadoop-client-runtime;3.3.1 from central in [default]\n",
      "\torg.apache.htrace#htrace-core4;4.1.0-incubating from central in [default]\n",
      "\torg.apache.kafka#kafka-clients;2.8.0 from central in [default]\n",
      "\torg.apache.spark#spark-sql-kafka-0-10_2.12;3.2.0 from central in [default]\n",
      "\torg.apache.spark#spark-streaming-kafka-0-10_2.12;3.2.0 from central in [default]\n",
      "\torg.apache.spark#spark-token-provider-kafka-0-10_2.12;3.2.0 from central in [default]\n",
      "\torg.lz4#lz4-java;1.7.1 from central in [default]\n",
      "\torg.slf4j#slf4j-api;1.7.30 from central in [default]\n",
      "\torg.spark-project.spark#unused;1.0.0 from central in [default]\n",
      "\torg.xerial.snappy#snappy-java;1.1.8.4 from central in [default]\n",
      "\t---------------------------------------------------------------------\n",
      "\t|                  |            modules            ||   artifacts   |\n",
      "\t|       conf       | number| search|dwnlded|evicted|| number|dwnlded|\n",
      "\t---------------------------------------------------------------------\n",
      "\t|      default     |   14  |   0   |   0   |   0   ||   14  |   0   |\n",
      "\t---------------------------------------------------------------------\n",
      ":: retrieving :: org.apache.spark#spark-submit-parent-e1881416-dae9-4e93-baad-1b523f9f7112\n",
      "\tconfs: [default]\n",
      "\t0 artifacts copied, 14 already retrieved (0kB/11ms)\n",
      "22/06/02 13:22:14 WARN NativeCodeLoader: Unable to load native-hadoop library for your platform... using builtin-java classes where applicable\n",
      "Using Spark's default log4j profile: org/apache/spark/log4j-defaults.properties\n",
      "Setting default log level to \"WARN\".\n",
      "To adjust logging level use sc.setLogLevel(newLevel). For SparkR, use setLogLevel(newLevel).\n"
     ]
    },
    {
     "data": {
      "text/html": [
       "\n",
       "            <div>\n",
       "                <p><b>SparkSession - in-memory</b></p>\n",
       "                \n",
       "        <div>\n",
       "            <p><b>SparkContext</b></p>\n",
       "\n",
       "            <p><a href=\"http://carloshkayser-pop-os:4040\">Spark UI</a></p>\n",
       "\n",
       "            <dl>\n",
       "              <dt>Version</dt>\n",
       "                <dd><code>v3.2.0</code></dd>\n",
       "              <dt>Master</dt>\n",
       "                <dd><code>local[*]</code></dd>\n",
       "              <dt>AppName</dt>\n",
       "                <dd><code>APP_NAME</code></dd>\n",
       "            </dl>\n",
       "        </div>\n",
       "        \n",
       "            </div>\n",
       "        "
      ],
      "text/plain": [
       "<pyspark.sql.session.SparkSession at 0x7f1d4c088280>"
      ]
     },
     "execution_count": 1,
     "metadata": {},
     "output_type": "execute_result"
    }
   ],
   "source": [
    "from pyspark import SparkContext, SparkConf\n",
    "from pyspark.sql import SparkSession\n",
    "from pyspark.sql import functions as F\n",
    "\n",
    "import time\n",
    "import os\n",
    "\n",
    "os.environ[\n",
    "    \"PYSPARK_SUBMIT_ARGS\"\n",
    "] = \"--packages org.apache.spark:spark-streaming-kafka-0-10_2.12:3.2.0,org.apache.spark:spark-sql-kafka-0-10_2.12:3.2.0 pyspark-shell\"\n",
    "\n",
    "\n",
    "APP_NAME = os.getenv(\"APP_NAME\", \"spark-streaming-app\")\n",
    "MASTER = os.getenv(\"MASTER\", \"local[*]\")\n",
    "\n",
    "spark = SparkSession.builder.appName(\"APP_NAME\").master(MASTER).getOrCreate()\n",
    "spark\n"
   ]
  },
  {
   "cell_type": "code",
   "execution_count": 85,
   "id": "561ab63a",
   "metadata": {
    "execution": {
     "iopub.execute_input": "2022-06-02T17:02:14.458260Z",
     "iopub.status.busy": "2022-06-02T17:02:14.456123Z",
     "iopub.status.idle": "2022-06-02T17:02:14.494129Z",
     "shell.execute_reply": "2022-06-02T17:02:14.493006Z",
     "shell.execute_reply.started": "2022-06-02T17:02:14.458173Z"
    },
    "tags": []
   },
   "outputs": [],
   "source": [
    "# Read machine learning model\n",
    "\n",
    "from pyspark.sql.types import StructType, StructField, FloatType, StringType, LongType, IntegerType\n",
    "from pyspark.sql.functions import col, from_json, struct\n",
    "from pyspark.sql.functions import pandas_udf, PandasUDFType\n",
    "import pandas as pd\n",
    "import json\n",
    "import pickle\n",
    "\n",
    "# model_features = [0, 1, 2, 3, 4, 5, 6, 7, 8, 9, 10, 11, 12, 13, 14, 15, 16, 17, 18, 19, 20]\n",
    "\n",
    "with open('model/catboost-classifier.pickle', 'rb') as handle:\n",
    "    model = pickle.load(handle)\n",
    "\n",
    "@pandas_udf(FloatType())\n",
    "def predict(row: pd.Series) -> pd.Series:\n",
    "    \n",
    "    print('columns', row.columns)\n",
    "    for i, v in row.iteritems():\n",
    "        print('index: ', i, 'value: ', v)\n",
    "    \n",
    "    if row is None:\n",
    "        return\n",
    "    \n",
    "    # d = json.loads(row)\n",
    "    # data = pd.DataFrame.from_dict(d, orient = \"index\").transpose()  \n",
    "    \n",
    "    return model.predict(\n",
    "        row,\n",
    "        prediction_type='Probability', \n",
    "        ntree_start=0, ntree_end=model.get_best_iteration(), \n",
    "        thread_count=-1\n",
    "    )\n",
    "\n",
    "# from pyspark.sql.functions import udf\n",
    "# predict_udf = udf(predict, StringType())"
   ]
  },
  {
   "cell_type": "code",
   "execution_count": 86,
   "id": "8286dabe",
   "metadata": {
    "execution": {
     "iopub.execute_input": "2022-06-02T17:02:15.021634Z",
     "iopub.status.busy": "2022-06-02T17:02:15.020100Z",
     "iopub.status.idle": "2022-06-02T17:02:15.048193Z",
     "shell.execute_reply": "2022-06-02T17:02:15.047561Z",
     "shell.execute_reply.started": "2022-06-02T17:02:15.021545Z"
    },
    "tags": []
   },
   "outputs": [],
   "source": [
    "df_raw = (\n",
    "    spark.readStream\n",
    "    .format(\"kafka\")\n",
    "    .option(\"kafka.bootstrap.servers\", \"localhost:9092\")\n",
    "    # .option(\"kafka.bootstrap.servers\", \"kafka-cluster-kafka-bootstrap:9092\")\n",
    "    .option(\"subscribe\", \"to_predict\")\n",
    "    .option(\"startingOffsets\", \"latest\")\n",
    "    .load()\n",
    ")"
   ]
  },
  {
   "cell_type": "code",
   "execution_count": 87,
   "id": "a6008327",
   "metadata": {
    "execution": {
     "iopub.execute_input": "2022-06-02T17:02:15.288968Z",
     "iopub.status.busy": "2022-06-02T17:02:15.287547Z",
     "iopub.status.idle": "2022-06-02T17:02:15.305217Z",
     "shell.execute_reply": "2022-06-02T17:02:15.303848Z",
     "shell.execute_reply.started": "2022-06-02T17:02:15.288811Z"
    },
    "tags": []
   },
   "outputs": [
    {
     "name": "stdout",
     "output_type": "stream",
     "text": [
      "root\n",
      " |-- key: binary (nullable = true)\n",
      " |-- value: binary (nullable = true)\n",
      " |-- topic: string (nullable = true)\n",
      " |-- partition: integer (nullable = true)\n",
      " |-- offset: long (nullable = true)\n",
      " |-- timestamp: timestamp (nullable = true)\n",
      " |-- timestampType: integer (nullable = true)\n",
      "\n"
     ]
    }
   ],
   "source": [
    "df_raw.printSchema()"
   ]
  },
  {
   "cell_type": "code",
   "execution_count": 88,
   "id": "d9d2fb02-a207-410b-9575-2f4077bab353",
   "metadata": {
    "execution": {
     "iopub.execute_input": "2022-06-02T17:02:15.762516Z",
     "iopub.status.busy": "2022-06-02T17:02:15.760344Z",
     "iopub.status.idle": "2022-06-02T17:02:15.797158Z",
     "shell.execute_reply": "2022-06-02T17:02:15.793566Z",
     "shell.execute_reply.started": "2022-06-02T17:02:15.762393Z"
    },
    "tags": []
   },
   "outputs": [],
   "source": [
    "# df_json = df.selectExpr('CAST(value AS STRING) as json')\n",
    "\n",
    "# {\n",
    "#   \"id\": 1.0079274744188029e+19,\n",
    "#   \"hour\": 14103100,\n",
    "#   \"C1\": 1005,\n",
    "#   \"banner_pos\": 0,\n",
    "#   \"site_id\": \"85f751fd\",\n",
    "#   \"site_domain\": \"c4e18dd6\",\n",
    "#   \"site_category\": \"50e219e0\",\n",
    "#   \"app_id\": \"febd1138\",\n",
    "#   \"app_domain\": \"82e27996\",\n",
    "#   \"app_category\": \"0f2161f8\",\n",
    "#   \"device_id\": \"a99f214a\",\n",
    "#   \"device_ip\": \"b72692c8\",\n",
    "#   \"device_model\": \"99e427c9\",\n",
    "#   \"device_type\": 1,\n",
    "#   \"device_conn_type\": 0,\n",
    "#   \"C14\": 21611,\n",
    "#   \"C15\": 320,\n",
    "#   \"C16\": 50,\n",
    "#   \"C17\": 2480,\n",
    "#   \"C18\": 3,\n",
    "#   \"C19\": 299,\n",
    "#   \"C20\": 100111,\n",
    "#   \"C21\": 61\n",
    "# }\n",
    "\n",
    "schema = StructType([\n",
    "    StructField('id', LongType(), True),\n",
    "    StructField(\"hour\", IntegerType(), True),\n",
    "    StructField(\"C1\", IntegerType(), True),\n",
    "    StructField(\"banner_pos\", IntegerType(), True),\n",
    "    StructField(\"site_id\", StringType(), True),\n",
    "    StructField(\"site_domain\", StringType(), True),\n",
    "    StructField(\"site_category\", StringType(), True),\n",
    "    StructField(\"app_id\", StringType(), True),\n",
    "    StructField(\"app_domain\", StringType(), True),\n",
    "    StructField(\"app_category\", StringType(), True),\n",
    "    StructField(\"device_id\", StringType(), True),\n",
    "    StructField(\"device_ip\", StringType(), True),\n",
    "    StructField(\"device_model\", StringType(), True),\n",
    "    StructField(\"device_type\", IntegerType(), True),\n",
    "    StructField(\"device_conn_type\", IntegerType(), True),\n",
    "    StructField(\"C14\", IntegerType(), True),\n",
    "    StructField(\"C15\", IntegerType(), True),\n",
    "    StructField(\"C16\", IntegerType(), True),\n",
    "    StructField(\"C17\", IntegerType(), True),\n",
    "    StructField(\"C18\", IntegerType(), True),\n",
    "    StructField(\"C19\", IntegerType(), True),\n",
    "    StructField(\"C20\", IntegerType(), True),\n",
    "    StructField(\"C21\", IntegerType(), True)\n",
    "])\n"
   ]
  },
  {
   "cell_type": "code",
   "execution_count": 89,
   "id": "b073d71f-22d7-4634-ac56-dd82968f3b3a",
   "metadata": {
    "execution": {
     "iopub.execute_input": "2022-06-02T17:02:16.034775Z",
     "iopub.status.busy": "2022-06-02T17:02:16.033399Z",
     "iopub.status.idle": "2022-06-02T17:02:16.089052Z",
     "shell.execute_reply": "2022-06-02T17:02:16.087589Z",
     "shell.execute_reply.started": "2022-06-02T17:02:16.034651Z"
    },
    "tags": []
   },
   "outputs": [
    {
     "name": "stdout",
     "output_type": "stream",
     "text": [
      "root\n",
      " |-- id: long (nullable = true)\n",
      " |-- hour: integer (nullable = true)\n",
      " |-- C1: integer (nullable = true)\n",
      " |-- banner_pos: integer (nullable = true)\n",
      " |-- site_id: string (nullable = true)\n",
      " |-- site_domain: string (nullable = true)\n",
      " |-- site_category: string (nullable = true)\n",
      " |-- app_id: string (nullable = true)\n",
      " |-- app_domain: string (nullable = true)\n",
      " |-- app_category: string (nullable = true)\n",
      " |-- device_id: string (nullable = true)\n",
      " |-- device_ip: string (nullable = true)\n",
      " |-- device_model: string (nullable = true)\n",
      " |-- device_type: integer (nullable = true)\n",
      " |-- device_conn_type: integer (nullable = true)\n",
      " |-- C14: integer (nullable = true)\n",
      " |-- C15: integer (nullable = true)\n",
      " |-- C16: integer (nullable = true)\n",
      " |-- C17: integer (nullable = true)\n",
      " |-- C18: integer (nullable = true)\n",
      " |-- C19: integer (nullable = true)\n",
      " |-- C20: integer (nullable = true)\n",
      " |-- C21: integer (nullable = true)\n",
      "\n"
     ]
    }
   ],
   "source": [
    "df = df_raw.selectExpr(\"CAST(value AS STRING)\") \\\n",
    "    .select(from_json(\"value\", schema).alias(\"data\")) \\\n",
    "    .select(\"data.*\")\n",
    "\n",
    "df.printSchema()"
   ]
  },
  {
   "cell_type": "code",
   "execution_count": 90,
   "id": "bba94363-4605-4b2c-b904-6a7c5b78d573",
   "metadata": {
    "execution": {
     "iopub.execute_input": "2022-06-02T17:02:16.249802Z",
     "iopub.status.busy": "2022-06-02T17:02:16.248495Z",
     "iopub.status.idle": "2022-06-02T17:02:16.259911Z",
     "shell.execute_reply": "2022-06-02T17:02:16.257254Z",
     "shell.execute_reply.started": "2022-06-02T17:02:16.249724Z"
    },
    "tags": []
   },
   "outputs": [],
   "source": [
    "# dfInt = spark \\\n",
    "#     .readStream \\\n",
    "#     .load() \\\n",
    "#     .selectExpr(\"cast (body as string) as json\") \\\n",
    "#     .select(from_json(\"json\",schema).alias(\"data\")) \\\n",
    "#     .withColumn(\"k\", expr(\"uuid()\")) \\\n",
    "#     .select(\"key\", explode(\"data.features\").alias(\"feat\")) \\\n",
    "#     .select(\"feat.*\", \"key\") \\\n",
    "#     .groupBy(\"k\") \\\n",
    "#     .agg(*expressions) \\\n",
    "#     .drop(\"k\") \\\n",
    "#     .na.drop() \\\n",
    "#     .withColumn(\"prediction\", predict( (F.struct([col(x) for x in (features)]))))"
   ]
  },
  {
   "cell_type": "code",
   "execution_count": 91,
   "id": "15708113-d44e-4139-939c-7a33823a42ff",
   "metadata": {
    "execution": {
     "iopub.execute_input": "2022-06-02T17:02:16.547061Z",
     "iopub.status.busy": "2022-06-02T17:02:16.546034Z",
     "iopub.status.idle": "2022-06-02T17:02:17.105625Z",
     "shell.execute_reply": "2022-06-02T17:02:17.104407Z",
     "shell.execute_reply.started": "2022-06-02T17:02:16.546976Z"
    },
    "tags": []
   },
   "outputs": [],
   "source": [
    "features = ['hour',\n",
    " 'C1',\n",
    " 'banner_pos',\n",
    " 'site_id',\n",
    " 'site_domain',\n",
    " 'site_category',\n",
    " 'app_id',\n",
    " 'app_domain',\n",
    " 'app_category',\n",
    " 'device_id',\n",
    " 'device_ip',\n",
    " 'device_model',\n",
    " 'device_type',\n",
    " 'device_conn_type',\n",
    " 'C14',\n",
    " 'C15',\n",
    " 'C16',\n",
    " 'C17',\n",
    " 'C18',\n",
    " 'C19',\n",
    " 'C20']\n",
    "\n",
    "columns = ['hour', 'C1', 'banner_pos', 'site_id', 'site_domain', 'site_category',\n",
    "       'app_id', 'app_domain', 'app_category', 'device_id', 'device_ip',\n",
    "       'device_model', 'device_type', 'device_conn_type', 'C14', 'C15', 'C16',\n",
    "       'C17', 'C18', 'C19', 'C20', 'C21']\n",
    "\n",
    "# df_result = df.withColumn(\"prediction\", predict((struct([col(x) for x in features]))))\n",
    "\n",
    "# df_result = df.select([col(x) for x in features])\n",
    "\n",
    "df_result = df.withColumn(\"prediction\", predict((struct([col(x) for x in columns]))))"
   ]
  },
  {
   "cell_type": "code",
   "execution_count": 92,
   "id": "4008b51b-b3b1-4876-a6d0-7d8368bd146a",
   "metadata": {
    "execution": {
     "iopub.execute_input": "2022-06-02T17:02:17.110902Z",
     "iopub.status.busy": "2022-06-02T17:02:17.107371Z",
     "iopub.status.idle": "2022-06-02T17:02:17.116776Z",
     "shell.execute_reply": "2022-06-02T17:02:17.115506Z",
     "shell.execute_reply.started": "2022-06-02T17:02:17.110853Z"
    },
    "tags": []
   },
   "outputs": [],
   "source": [
    "\n",
    "\n",
    "# Create Temp View\n",
    "# df.createOrReplaceTempView(\"dataframe\")\n",
    "\n",
    "# # Apply UDF in SQL query.\n",
    "# df_results = spark.sql(f\"select predict({', '.join(features)}) as score from dataframe\")\n",
    "\n",
    "# df_results = df_json.select(predict_udf(\"json\").alias(\"value\"))"
   ]
  },
  {
   "cell_type": "code",
   "execution_count": 93,
   "id": "e4271254-fbb6-47d8-9110-37b56c7bca96",
   "metadata": {
    "execution": {
     "iopub.execute_input": "2022-06-02T17:02:19.050757Z",
     "iopub.status.busy": "2022-06-02T17:02:19.049427Z",
     "iopub.status.idle": "2022-06-02T17:02:29.175725Z",
     "shell.execute_reply": "2022-06-02T17:02:29.172103Z",
     "shell.execute_reply.started": "2022-06-02T17:02:19.050638Z"
    },
    "tags": []
   },
   "outputs": [
    {
     "name": "stderr",
     "output_type": "stream",
     "text": [
      "22/06/02 14:02:19 WARN ResolveWriteToStream: Temporary checkpoint location created which is deleted normally when the query didn't fail: /tmp/temporary-56981d04-78fc-4543-bfc8-979a987dcc8b. If it's required to delete it under any circumstances, please set spark.sql.streaming.forceDeleteTempCheckpointLocation to true. Important to know deleting temp checkpoint folder is best effort.\n",
      "22/06/02 14:02:19 WARN ResolveWriteToStream: spark.sql.adaptive.enabled is not supported in streaming DataFrames/Datasets and will be disabled.\n",
      "                                                                                \r"
     ]
    },
    {
     "name": "stdout",
     "output_type": "stream",
     "text": [
      "-------------------------------------------\n",
      "Batch: 0\n",
      "-------------------------------------------\n",
      "+---+----+---+----------+-------+-----------+-------------+------+----------+------------+---------+---------+------------+-----------+----------------+---+---+---+---+---+---+---+---+----------+\n",
      "| id|hour| C1|banner_pos|site_id|site_domain|site_category|app_id|app_domain|app_category|device_id|device_ip|device_model|device_type|device_conn_type|C14|C15|C16|C17|C18|C19|C20|C21|prediction|\n",
      "+---+----+---+----------+-------+-----------+-------------+------+----------+------------+---------+---------+------------+-----------+----------------+---+---+---+---+---+---+---+---+----------+\n",
      "+---+----+---+----------+-------+-----------+-------------+------+----------+------------+---------+---------+------------+-----------+----------------+---+---+---+---+---+---+---+---+----------+\n",
      "\n"
     ]
    },
    {
     "name": "stderr",
     "output_type": "stream",
     "text": [
      "22/06/02 14:02:19 WARN KafkaDataConsumer: KafkaDataConsumer is not running in UninterruptibleThread. It may hang when KafkaDataConsumer's methods are interrupted because of KAFKA-1894\n",
      "columns Index(['hour', 'C1', 'banner_pos', 'site_id', 'site_domain', 'site_category',\n",
      "       'app_id', 'app_domain', 'app_category', 'device_id', 'device_ip',\n",
      "       'device_model', 'device_type', 'device_conn_type', 'C14', 'C15', 'C16',\n",
      "       'C17', 'C18', 'C19', 'C20', 'C21'],\n",
      "      dtype='object')\n",
      "index:  hour value:  0    14103100\n",
      "Name: hour, dtype: int32\n",
      "index:  C1 value:  0    1005\n",
      "Name: C1, dtype: int32\n",
      "index:  banner_pos value:  0    0\n",
      "Name: banner_pos, dtype: int32\n",
      "index:  site_id value:  0    1fbe01fe\n",
      "Name: site_id, dtype: object\n",
      "index:  site_domain value:  0    f3845767\n",
      "Name: site_domain, dtype: object\n",
      "index:  site_category value:  0    28905ebd\n",
      "Name: site_category, dtype: object\n",
      "index:  app_id value:  0    ecad2386\n",
      "Name: app_id, dtype: object\n",
      "index:  app_domain value:  0    7801e8d9\n",
      "Name: app_domain, dtype: object\n",
      "index:  app_category value:  0    07d7df22\n",
      "Name: app_category, dtype: object\n",
      "index:  device_id value:  0    a99f214a\n",
      "Name: device_id, dtype: object\n",
      "index:  device_ip value:  0    5e954e77\n",
      "Name: device_ip, dtype: object\n",
      "index:  device_model value:  0    36d749e5\n",
      "Name: device_model, dtype: object\n",
      "index:  device_type value:  0    1\n",
      "Name: device_type, dtype: int32\n",
      "index:  device_conn_type value:  0    0\n",
      "Name: device_conn_type, dtype: int32\n",
      "index:  C14 value:  0    22676\n",
      "Name: C14, dtype: int32\n",
      "index:  C15 value:  0    320\n",
      "Name: C15, dtype: int32\n",
      "index:  C16 value:  0    50\n",
      "Name: C16, dtype: int32\n",
      "index:  C17 value:  0    2616\n",
      "Name: C17, dtype: int32\n",
      "index:  C18 value:  0    0\n",
      "Name: C18, dtype: int32\n",
      "index:  C19 value:  0    35\n",
      "Name: C19, dtype: int32\n",
      "index:  C20 value:  0   -1\n",
      "Name: C20, dtype: int32\n",
      "index:  C21 value:  0    51\n",
      "Name: C21, dtype: int32\n",
      "PySpark worker failed with exception:\n",
      "Traceback (most recent call last):\n",
      "  File \"/home/carlos/.cache/pypoetry/virtualenvs/spark-ml-training-gphMGkfa-py3.10/lib/python3.10/site-packages/pyspark/python/lib/pyspark.zip/pyspark/worker.py\", line 619, in main\n",
      "    process()\n",
      "  File \"/home/carlos/.cache/pypoetry/virtualenvs/spark-ml-training-gphMGkfa-py3.10/lib/python3.10/site-packages/pyspark/python/lib/pyspark.zip/pyspark/worker.py\", line 611, in process\n",
      "    serializer.dump_stream(out_iter, outfile)\n",
      "  File \"/home/carlos/.cache/pypoetry/virtualenvs/spark-ml-training-gphMGkfa-py3.10/lib/python3.10/site-packages/pyspark/python/lib/pyspark.zip/pyspark/sql/pandas/serializers.py\", line 273, in dump_stream\n",
      "    return ArrowStreamSerializer.dump_stream(self, init_stream_yield_batches(), stream)\n",
      "  File \"/home/carlos/.cache/pypoetry/virtualenvs/spark-ml-training-gphMGkfa-py3.10/lib/python3.10/site-packages/pyspark/python/lib/pyspark.zip/pyspark/sql/pandas/serializers.py\", line 81, in dump_stream\n",
      "    for batch in iterator:\n",
      "  File \"/home/carlos/.cache/pypoetry/virtualenvs/spark-ml-training-gphMGkfa-py3.10/lib/python3.10/site-packages/pyspark/python/lib/pyspark.zip/pyspark/sql/pandas/serializers.py\", line 266, in init_stream_yield_batches\n",
      "    for series in iterator:\n",
      "  File \"/home/carlos/.cache/pypoetry/virtualenvs/spark-ml-training-gphMGkfa-py3.10/lib/python3.10/site-packages/pyspark/python/lib/pyspark.zip/pyspark/worker.py\", line 452, in mapper\n",
      "    result = tuple(f(*[a[o] for o in arg_offsets]) for (arg_offsets, f) in udfs)\n",
      "  File \"/home/carlos/.cache/pypoetry/virtualenvs/spark-ml-training-gphMGkfa-py3.10/lib/python3.10/site-packages/pyspark/python/lib/pyspark.zip/pyspark/worker.py\", line 452, in <genexpr>\n",
      "    result = tuple(f(*[a[o] for o in arg_offsets]) for (arg_offsets, f) in udfs)\n",
      "  File \"/home/carlos/.cache/pypoetry/virtualenvs/spark-ml-training-gphMGkfa-py3.10/lib/python3.10/site-packages/pyspark/python/lib/pyspark.zip/pyspark/worker.py\", line 107, in <lambda>\n",
      "    verify_result_type(f(*a)), len(a[0])), arrow_return_type)\n",
      "  File \"/home/carlos/.cache/pypoetry/virtualenvs/spark-ml-training-gphMGkfa-py3.10/lib/python3.10/site-packages/pyspark/python/lib/pyspark.zip/pyspark/util.py\", line 74, in wrapper\n",
      "    return f(*args, **kwargs)\n",
      "  File \"/tmp/ipykernel_171774/3698621049.py\", line -1, in predict\n",
      "  File \"/home/carlos/.cache/pypoetry/virtualenvs/spark-ml-training-gphMGkfa-py3.10/lib/python3.10/site-packages/catboost/core.py\", line 5063, in predict\n",
      "    return self._predict(data, prediction_type, ntree_start, ntree_end, thread_count, verbose, 'predict', task_type)\n",
      "  File \"/home/carlos/.cache/pypoetry/virtualenvs/spark-ml-training-gphMGkfa-py3.10/lib/python3.10/site-packages/catboost/core.py\", line 2461, in _predict\n",
      "    predictions = self._base_predict(data, prediction_type, ntree_start, ntree_end, thread_count, verbose, task_type)\n",
      "  File \"/home/carlos/.cache/pypoetry/virtualenvs/spark-ml-training-gphMGkfa-py3.10/lib/python3.10/site-packages/catboost/core.py\", line 1757, in _base_predict\n",
      "    return self._object._base_predict(pool, prediction_type, ntree_start, ntree_end, thread_count, verbose, task_type)\n",
      "  File \"_catboost.pyx\", line 4721, in _catboost._CatBoost._base_predict\n",
      "TypeError: an integer is required\n",
      "\n",
      "During handling of the above exception, another exception occurred:\n",
      "\n",
      "Traceback (most recent call last):\n",
      "  File \"/home/carlos/.cache/pypoetry/virtualenvs/spark-ml-training-gphMGkfa-py3.10/lib/python3.10/site-packages/pyspark/python/lib/pyspark.zip/pyspark/worker.py\", line 629, in main\n",
      "    tb = try_simplify_traceback(sys.exc_info()[-1])\n",
      "  File \"/home/carlos/.cache/pypoetry/virtualenvs/spark-ml-training-gphMGkfa-py3.10/lib/python3.10/site-packages/pyspark/python/lib/pyspark.zip/pyspark/util.py\", line 213, in try_simplify_traceback\n",
      "    new_tb = types.TracebackType(\n",
      "TypeError: 'NoneType' object cannot be interpreted as an integer\n",
      "\n",
      "22/06/02 14:02:29 ERROR WriteToDataSourceV2Exec: Data source write support org.apache.spark.sql.execution.streaming.sources.MicroBatchWrite@68e3f638 is aborting.\n",
      "22/06/02 14:02:29 ERROR WriteToDataSourceV2Exec: Data source write support org.apache.spark.sql.execution.streaming.sources.MicroBatchWrite@68e3f638 aborted.\n",
      "22/06/02 14:02:31 WARN ArrowPythonRunner: Incomplete task 0.0 in stage 27 (TID 27) interrupted: Attempting to kill Python Worker\n",
      "22/06/02 14:02:31 ERROR Utils: Aborting task\n",
      "org.apache.spark.TaskKilledException\n",
      "\tat org.apache.spark.api.python.BasePythonRunner$ReaderIterator$$anonfun$1.applyOrElse(PythonRunner.scala:570)\n",
      "\tat org.apache.spark.api.python.BasePythonRunner$ReaderIterator$$anonfun$1.applyOrElse(PythonRunner.scala:567)\n",
      "\tat scala.runtime.AbstractPartialFunction.apply(AbstractPartialFunction.scala:38)\n",
      "\tat org.apache.spark.sql.execution.python.PythonArrowOutput$$anon$1.read(PythonArrowOutput.scala:107)\n",
      "\tat org.apache.spark.sql.execution.python.PythonArrowOutput$$anon$1.read(PythonArrowOutput.scala:50)\n",
      "\tat org.apache.spark.api.python.BasePythonRunner$ReaderIterator.hasNext(PythonRunner.scala:498)\n",
      "\tat org.apache.spark.InterruptibleIterator.hasNext(InterruptibleIterator.scala:37)\n",
      "\tat scala.collection.Iterator$$anon$11.hasNext(Iterator.scala:491)\n",
      "\tat scala.collection.Iterator$$anon$10.hasNext(Iterator.scala:460)\n",
      "\tat scala.collection.Iterator$$anon$10.hasNext(Iterator.scala:460)\n",
      "\tat org.apache.spark.sql.execution.datasources.v2.DataWritingSparkTask$.$anonfun$run$1(WriteToDataSourceV2Exec.scala:412)\n",
      "\tat org.apache.spark.util.Utils$.tryWithSafeFinallyAndFailureCallbacks(Utils.scala:1496)\n",
      "\tat org.apache.spark.sql.execution.datasources.v2.DataWritingSparkTask$.run(WriteToDataSourceV2Exec.scala:457)\n",
      "\tat org.apache.spark.sql.execution.datasources.v2.V2TableWriteExec.$anonfun$writeWithV2$2(WriteToDataSourceV2Exec.scala:358)\n",
      "\tat org.apache.spark.scheduler.ResultTask.runTask(ResultTask.scala:90)\n",
      "\tat org.apache.spark.scheduler.Task.run(Task.scala:131)\n",
      "\tat org.apache.spark.executor.Executor$TaskRunner.$anonfun$run$3(Executor.scala:506)\n",
      "\tat org.apache.spark.util.Utils$.tryWithSafeFinally(Utils.scala:1462)\n",
      "\tat org.apache.spark.executor.Executor$TaskRunner.run(Executor.scala:509)\n",
      "\tat java.base/java.util.concurrent.ThreadPoolExecutor.runWorker(ThreadPoolExecutor.java:1128)\n",
      "\tat java.base/java.util.concurrent.ThreadPoolExecutor$Worker.run(ThreadPoolExecutor.java:628)\n",
      "\tat java.base/java.lang.Thread.run(Thread.java:829)\n",
      "22/06/02 14:02:31 ERROR DataWritingSparkTask: Aborting commit for partition 0 (task 27, attempt 0, stage 27.0)\n",
      "22/06/02 14:02:31 ERROR DataWritingSparkTask: Aborted commit for partition 0 (task 27, attempt 0, stage 27.0)\n",
      "22/06/02 14:02:31 WARN TaskSetManager: Lost task 0.0 in stage 27.0 (TID 27) (carloshkayser-pop-os executor driver): TaskKilled (Stage cancelled)\n"
     ]
    }
   ],
   "source": [
    "# Start streaming on console\n",
    "\n",
    "# df.writeStream \\\n",
    "#       .format(\"console\") \\\n",
    "#       .start() \\\n",
    "#       .awaitTermination()\n",
    "\n",
    "query = df_result \\\n",
    "    .writeStream \\\n",
    "    .format(\"console\") \\\n",
    "    .start()\n",
    "\n",
    "# query = df_result.writeStream \\\n",
    "#   .format(\"csv\") \\\n",
    "#   .option(\"checkpointLocation\", \"checkpoint/\") \\\n",
    "#   .option(\"path\", \"data/\") \\\n",
    "#   .outputMode(\"append\") \\\n",
    "#   .start()\n",
    "\n",
    "time.sleep(10) # sleep 10 seconds\n",
    "\n",
    "query.stop()"
   ]
  },
  {
   "cell_type": "code",
   "execution_count": null,
   "id": "da2961c3-5b02-4241-8498-fc7a0907552e",
   "metadata": {
    "execution": {
     "iopub.status.busy": "2022-06-02T16:22:18.758707Z",
     "iopub.status.idle": "2022-06-02T16:22:18.759051Z",
     "shell.execute_reply": "2022-06-02T16:22:18.758898Z",
     "shell.execute_reply.started": "2022-06-02T16:22:18.758882Z"
    }
   },
   "outputs": [],
   "source": [
    "stop"
   ]
  },
  {
   "cell_type": "code",
   "execution_count": null,
   "id": "994efd04-d7a7-488d-b4cd-ff45c61566d4",
   "metadata": {},
   "outputs": [],
   "source": []
  },
  {
   "cell_type": "code",
   "execution_count": null,
   "id": "4e321e92-5dc8-4a69-b46c-dc3a2d910549",
   "metadata": {
    "execution": {
     "iopub.status.busy": "2022-06-02T16:22:18.760525Z",
     "iopub.status.idle": "2022-06-02T16:22:18.760974Z",
     "shell.execute_reply": "2022-06-02T16:22:18.760805Z",
     "shell.execute_reply.started": "2022-06-02T16:22:18.760787Z"
    }
   },
   "outputs": [],
   "source": [
    "# # read from Kafka \n",
    "# df = spark.readStream.format(\"kafka\") \n",
    "#   .option(\"kafka.bootstrap.servers\", \"{external_ip}:9092\") \n",
    "#   .option(\"subscribe\", \"dsp\").load() \n",
    "# # select the value field and apply the UDF     \n",
    "# df = df.selectExpr(\"CAST(value AS STRING)\")\n",
    "# score_udf = udf(score, StringType())    \n",
    "# df = df.select( score_udf(\"value\").alias(\"value\"))\n",
    "# # Write results to Kafka \n",
    "# query = df.writeStream.format(\"kafka\") \n",
    "#   .option(\"kafka.bootstrap.servers\", \"{external_ip}:9092\") \n",
    "#   .option(\"topic\", \"preds\") \n",
    "#   .option(\"checkpointLocation\", \"/temp\").start()"
   ]
  },
  {
   "cell_type": "code",
   "execution_count": null,
   "id": "49bfc109-33cc-4550-9626-fbf47901f932",
   "metadata": {},
   "outputs": [],
   "source": []
  },
  {
   "cell_type": "code",
   "execution_count": null,
   "id": "75bee8ef",
   "metadata": {
    "tags": []
   },
   "outputs": [],
   "source": []
  },
  {
   "cell_type": "code",
   "execution_count": null,
   "id": "1f6336e1-c5e2-40a0-837e-6018205aec92",
   "metadata": {},
   "outputs": [],
   "source": []
  },
  {
   "cell_type": "code",
   "execution_count": null,
   "id": "e363b352-9c8c-4a77-8ba0-3ce479c28708",
   "metadata": {},
   "outputs": [],
   "source": []
  },
  {
   "cell_type": "code",
   "execution_count": null,
   "id": "3e7f0b82-8be7-4688-b56f-0d025cbc5507",
   "metadata": {},
   "outputs": [],
   "source": []
  },
  {
   "cell_type": "code",
   "execution_count": null,
   "id": "d395d4fc-7cc9-486b-bf50-3b4baf9f3b5a",
   "metadata": {},
   "outputs": [],
   "source": []
  },
  {
   "cell_type": "code",
   "execution_count": null,
   "id": "c3d5e6ff-bcd3-4390-8d95-a68616fd4597",
   "metadata": {},
   "outputs": [],
   "source": []
  },
  {
   "cell_type": "code",
   "execution_count": null,
   "id": "ae35b8b1",
   "metadata": {
    "tags": []
   },
   "outputs": [],
   "source": []
  },
  {
   "cell_type": "code",
   "execution_count": null,
   "id": "d798837b",
   "metadata": {
    "execution": {
     "iopub.status.busy": "2022-06-02T16:22:18.761845Z",
     "iopub.status.idle": "2022-06-02T16:22:18.762279Z",
     "shell.execute_reply": "2022-06-02T16:22:18.762121Z",
     "shell.execute_reply.started": "2022-06-02T16:22:18.762104Z"
    }
   },
   "outputs": [],
   "source": [
    "# df = df.select('request_id', \\\n",
    "#     F.col('data').getItem('CPU').alias('CPU'), \\\n",
    "#     F.col('data').getItem('memory').alias('memory'), \\\n",
    "#     F.col('data').getItem('disk').alias('disk'))\n",
    "\n",
    "# df.printSchema()"
   ]
  },
  {
   "cell_type": "code",
   "execution_count": null,
   "id": "7af89efe",
   "metadata": {
    "execution": {
     "iopub.status.busy": "2022-06-02T16:22:18.763341Z",
     "iopub.status.idle": "2022-06-02T16:22:18.763680Z",
     "shell.execute_reply": "2022-06-02T16:22:18.763525Z",
     "shell.execute_reply.started": "2022-06-02T16:22:18.763508Z"
    },
    "tags": []
   },
   "outputs": [],
   "source": [
    "# Start streaming on console\n",
    "\n",
    "# df.writeStream \\\n",
    "#       .format(\"console\") \\\n",
    "#       .start() \\\n",
    "#       .awaitTermination()\n",
    "\n",
    "query = df \\\n",
    "    .writeStream \\\n",
    "    .format(\"console\") \\\n",
    "    .start()\n",
    "\n",
    "time.sleep(10) # sleep 10 seconds\n",
    "\n",
    "query.stop()"
   ]
  },
  {
   "cell_type": "code",
   "execution_count": null,
   "id": "b8e4c543",
   "metadata": {
    "execution": {
     "iopub.status.busy": "2022-06-02T16:22:18.764635Z",
     "iopub.status.idle": "2022-06-02T16:22:18.764979Z",
     "shell.execute_reply": "2022-06-02T16:22:18.764811Z",
     "shell.execute_reply.started": "2022-06-02T16:22:18.764795Z"
    }
   },
   "outputs": [],
   "source": [
    "stop"
   ]
  },
  {
   "cell_type": "code",
   "execution_count": null,
   "id": "508dc702",
   "metadata": {},
   "outputs": [],
   "source": []
  },
  {
   "cell_type": "code",
   "execution_count": null,
   "id": "ff3a30fa-7b2a-4c56-8d41-a5acf1e31778",
   "metadata": {},
   "outputs": [],
   "source": []
  },
  {
   "cell_type": "code",
   "execution_count": null,
   "id": "61f3bdd4-3dbb-4dc1-aef8-de81db9f7ed5",
   "metadata": {},
   "outputs": [],
   "source": []
  },
  {
   "cell_type": "code",
   "execution_count": null,
   "id": "b457b145-13ea-48b6-9255-eb016df671cf",
   "metadata": {
    "execution": {
     "iopub.status.busy": "2022-06-02T16:22:18.765955Z",
     "iopub.status.idle": "2022-06-02T16:22:18.766282Z",
     "shell.execute_reply": "2022-06-02T16:22:18.766128Z",
     "shell.execute_reply.started": "2022-06-02T16:22:18.766112Z"
    }
   },
   "outputs": [],
   "source": [
    "!pip install scipy"
   ]
  },
  {
   "cell_type": "code",
   "execution_count": null,
   "id": "8dfc3e46",
   "metadata": {
    "tags": []
   },
   "outputs": [],
   "source": []
  },
  {
   "cell_type": "code",
   "execution_count": null,
   "id": "074ade76-9cf7-4a0b-a58b-ca7d30220d92",
   "metadata": {},
   "outputs": [],
   "source": []
  },
  {
   "cell_type": "code",
   "execution_count": null,
   "id": "a99c34e0-0469-44e3-b480-7710bb164872",
   "metadata": {
    "execution": {
     "iopub.status.busy": "2022-06-02T16:22:18.767507Z",
     "iopub.status.idle": "2022-06-02T16:22:18.768122Z",
     "shell.execute_reply": "2022-06-02T16:22:18.767917Z",
     "shell.execute_reply.started": "2022-06-02T16:22:18.767895Z"
    }
   },
   "outputs": [],
   "source": [
    "# Create Temp View\n",
    "df.createOrReplaceTempView(\"dataframe\")\n",
    "\n",
    "# Apply UDF in SQL query.\n",
    "resultDF = spark.sql(\"select predict(*) as up_down_udf from dataframe\")"
   ]
  },
  {
   "cell_type": "code",
   "execution_count": null,
   "id": "b02cc1b3-76ef-4c2a-937c-ff6ff53789c8",
   "metadata": {},
   "outputs": [],
   "source": []
  },
  {
   "cell_type": "code",
   "execution_count": null,
   "id": "c88ee4b3-c12c-4aeb-9a6f-6cf991d4316a",
   "metadata": {},
   "outputs": [],
   "source": []
  },
  {
   "cell_type": "code",
   "execution_count": null,
   "id": "bbc95ce6-f911-4d02-8435-ac3b9977e3d6",
   "metadata": {},
   "outputs": [],
   "source": []
  },
  {
   "cell_type": "code",
   "execution_count": null,
   "id": "c7444e6c",
   "metadata": {},
   "outputs": [],
   "source": []
  },
  {
   "cell_type": "code",
   "execution_count": null,
   "id": "bbeec63c",
   "metadata": {
    "execution": {
     "iopub.status.busy": "2022-06-02T16:22:18.771732Z",
     "iopub.status.idle": "2022-06-02T16:22:18.772348Z",
     "shell.execute_reply": "2022-06-02T16:22:18.772068Z",
     "shell.execute_reply.started": "2022-06-02T16:22:18.772040Z"
    }
   },
   "outputs": [],
   "source": [
    "@pandas_udf(\"Count long, Resampled long, Start timestamp, End timestamp\", PandasUDFType.GROUPED_MAP)\n",
    "def myudf(df):\n",
    "  df = df.dropna()\n",
    "  df = df.set_index(\"Timestamp\")\n",
    "  df.sort_index(inplace=True)\n",
    "\n",
    "  # resample the dataframe\n",
    "  resampled = pd.DataFrame()\n",
    "  oidx = df.index\n",
    "  nidx = pd.date_range(oidx.min(), oidx.max(), freq=\"30S\")\n",
    "  resampled[\"Value\"] = df.Value.reindex(oidx.union(nidx)).interpolate('index').reindex(nidx)\n",
    "  return pd.DataFrame([[len(df.index), len(resampled.index), df.index.min(), df.index.max()]], columns=[\"Count\", \"Resampled\", \"Start\", \"End\"])\n",
    "\n",
    "predictionStream = sensorStream.withWatermark(\"Timestamp\", \"90 minutes\").groupBy(col(\"Name\"), window(col(\"Timestamp\"), \"70 minutes\", \"5 minutes\"))\n",
    "\n",
    "predictionStream.apply(myudf).writeStream \\\n",
    "    .queryName(\"aggregates\") \\\n",
    "    .format(\"memory\") \\\n",
    "    .start()"
   ]
  },
  {
   "cell_type": "code",
   "execution_count": null,
   "id": "abe61ac1",
   "metadata": {},
   "outputs": [],
   "source": []
  },
  {
   "cell_type": "code",
   "execution_count": null,
   "id": "25408b39",
   "metadata": {
    "execution": {
     "iopub.status.busy": "2022-06-02T16:22:18.773453Z",
     "iopub.status.idle": "2022-06-02T16:22:18.774027Z",
     "shell.execute_reply": "2022-06-02T16:22:18.773758Z",
     "shell.execute_reply.started": "2022-06-02T16:22:18.773731Z"
    }
   },
   "outputs": [],
   "source": [
    "import time\n",
    "\n",
    "df = df.selectExpr(\"CAST(value AS STRING)\").selectExpr(\"CAST(value AS STRING)\")\n",
    "\n",
    "# Start running the query that prints the running counts to the console\n",
    "query = df \\\n",
    "    .writeStream \\\n",
    "    .format(\"console\") \\\n",
    "    .start()\n",
    "\n",
    "# # query.awaitTermination()\n",
    "\n",
    "time.sleep(10) # sleep 10 seconds\n",
    "\n",
    "query.stop()"
   ]
  },
  {
   "cell_type": "code",
   "execution_count": null,
   "id": "1092b05a",
   "metadata": {},
   "outputs": [],
   "source": []
  },
  {
   "cell_type": "code",
   "execution_count": null,
   "id": "d2b3d0df",
   "metadata": {},
   "outputs": [],
   "source": []
  },
  {
   "cell_type": "code",
   "execution_count": null,
   "id": "4c3f1869",
   "metadata": {},
   "outputs": [],
   "source": []
  },
  {
   "cell_type": "code",
   "execution_count": null,
   "id": "d47b56ca",
   "metadata": {
    "execution": {
     "iopub.status.busy": "2022-06-02T16:22:18.775436Z",
     "iopub.status.idle": "2022-06-02T16:22:18.776125Z",
     "shell.execute_reply": "2022-06-02T16:22:18.775740Z",
     "shell.execute_reply.started": "2022-06-02T16:22:18.775715Z"
    }
   },
   "outputs": [],
   "source": [
    "query = values.writeStream \\\n",
    "    .format(\"json\") \\\n",
    "    .outputMode(\"append\")\n",
    "    .start(\"./topic.json\")\n",
    "    \n",
    "import time\n",
    "\n",
    "time.sleep(10) # sleep 10 seconds\n",
    "\n",
    "query.stop()"
   ]
  },
  {
   "cell_type": "code",
   "execution_count": null,
   "id": "e7fccd2a",
   "metadata": {},
   "outputs": [],
   "source": []
  },
  {
   "cell_type": "code",
   "execution_count": null,
   "id": "235eb7a2",
   "metadata": {},
   "outputs": [],
   "source": []
  },
  {
   "cell_type": "code",
   "execution_count": null,
   "id": "71bf0445",
   "metadata": {},
   "outputs": [],
   "source": []
  },
  {
   "cell_type": "code",
   "execution_count": null,
   "id": "24697bf2",
   "metadata": {
    "execution": {
     "iopub.status.busy": "2022-06-02T16:22:18.778279Z",
     "iopub.status.idle": "2022-06-02T16:22:18.778882Z",
     "shell.execute_reply": "2022-06-02T16:22:18.778606Z",
     "shell.execute_reply.started": "2022-06-02T16:22:18.778579Z"
    }
   },
   "outputs": [],
   "source": [
    "df.writeStream \\\n",
    "      .format(\"console\") \\\n",
    "      .outputMode(\"append\") \\\n",
    "      .start() \\\n",
    "      .awaitTermination()"
   ]
  },
  {
   "cell_type": "code",
   "execution_count": null,
   "id": "b2bca932",
   "metadata": {},
   "outputs": [],
   "source": []
  },
  {
   "cell_type": "code",
   "execution_count": null,
   "id": "351c682f",
   "metadata": {},
   "outputs": [],
   "source": []
  },
  {
   "cell_type": "code",
   "execution_count": null,
   "id": "6b90f09d",
   "metadata": {
    "execution": {
     "iopub.status.busy": "2022-06-02T16:22:18.780659Z",
     "iopub.status.idle": "2022-06-02T16:22:18.781612Z",
     "shell.execute_reply": "2022-06-02T16:22:18.781309Z",
     "shell.execute_reply.started": "2022-06-02T16:22:18.781279Z"
    },
    "tags": []
   },
   "outputs": [],
   "source": [
    "spark.readStream \\\n",
    "    .format(\"kafka\") \\\n",
    "    .option(\"kafka.bootstrap.servers\", \"kafka-cluster-kafka-bootstrap:9092\") \\\n",
    "    .option(\"subscribe\", \"app_messages\") \\\n",
    "    .option(\"startingOffsets\", \"latest\") \\\n",
    "    .load() \\\n",
    "    .writeStream \\\n",
    "    .format(\"json\") \\\n",
    "    .outputMode(\"append\") \\ # .option(\"checkpointLocation\", bronze_checkpoint_loc_vehicle) \\\n",
    "    .start(\"topic.json\")"
   ]
  }
 ],
 "metadata": {
  "interpreter": {
   "hash": "8dac3e0f488848b5f61d0eff2ec329dae66455ff49cdb7bac6ac065099647a71"
  },
  "kernelspec": {
   "display_name": "Python 3 (ipykernel)",
   "language": "python",
   "name": "python3"
  },
  "language_info": {
   "codemirror_mode": {
    "name": "ipython",
    "version": 3
   },
   "file_extension": ".py",
   "mimetype": "text/x-python",
   "name": "python",
   "nbconvert_exporter": "python",
   "pygments_lexer": "ipython3",
   "version": "3.10.2"
  }
 },
 "nbformat": 4,
 "nbformat_minor": 5
}
