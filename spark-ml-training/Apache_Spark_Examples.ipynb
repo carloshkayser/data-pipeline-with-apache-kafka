{
  "cells": [
    {
      "cell_type": "code",
      "execution_count": null,
      "metadata": {
        "colab": {
          "base_uri": "https://localhost:8080/"
        },
        "id": "BltOtobrjOBS",
        "outputId": "09c9135a-3f15-484d-a9f8-3d9d60c2d8ac"
      },
      "outputs": [
        {
          "name": "stdout",
          "output_type": "stream",
          "text": [
            "Requirement already satisfied: pyspark in /usr/local/lib/python3.7/dist-packages (3.2.1)\n",
            "Requirement already satisfied: py4j==0.10.9.3 in /usr/local/lib/python3.7/dist-packages (from pyspark) (0.10.9.3)\n"
          ]
        }
      ],
      "source": [
        "!pip install pyspark"
      ]
    },
    {
      "cell_type": "code",
      "execution_count": 1,
      "metadata": {
        "id": "JMajaLoLjSM_"
      },
      "outputs": [],
      "source": [
        "from pyspark import SparkContext, SparkConf\n",
        "from pyspark.sql import SparkSession\n",
        "\n",
        "import random\n"
      ]
    },
    {
      "cell_type": "code",
      "execution_count": 4,
      "metadata": {
        "colab": {
          "base_uri": "https://localhost:8080/",
          "height": 219
        },
        "id": "RHdDHvTDjUwR",
        "outputId": "083bf920-2c69-4c57-d816-7d30aa773e6e"
      },
      "outputs": [
        {
          "data": {
            "text/html": [
              "\n",
              "            <div>\n",
              "                <p><b>SparkSession - in-memory</b></p>\n",
              "                \n",
              "        <div>\n",
              "            <p><b>SparkContext</b></p>\n",
              "\n",
              "            <p><a href=\"http://10.32.45.215:4041\">Spark UI</a></p>\n",
              "\n",
              "            <dl>\n",
              "              <dt>Version</dt>\n",
              "                <dd><code>v3.2.0</code></dd>\n",
              "              <dt>Master</dt>\n",
              "                <dd><code>local[*]</code></dd>\n",
              "              <dt>AppName</dt>\n",
              "                <dd><code>pyspark-shell</code></dd>\n",
              "            </dl>\n",
              "        </div>\n",
              "        \n",
              "            </div>\n",
              "        "
            ],
            "text/plain": [
              "<pyspark.sql.session.SparkSession at 0x7fb50c0c4b50>"
            ]
          },
          "execution_count": 4,
          "metadata": {},
          "output_type": "execute_result"
        }
      ],
      "source": [
        "spark = SparkSession.builder \\\n",
        "  .master(\"spark://10.32.45.215:7077\") \\\n",
        "  .getOrCreate()\n",
        "\n",
        "spark\n"
      ]
    },
    {
      "cell_type": "code",
      "execution_count": 5,
      "metadata": {
        "colab": {
          "base_uri": "https://localhost:8080/",
          "height": 196
        },
        "id": "WS4eZShdjusF",
        "outputId": "c3d6f924-d149-41c8-e7ea-2a0bb62fdda1"
      },
      "outputs": [
        {
          "data": {
            "text/html": [
              "\n",
              "        <div>\n",
              "            <p><b>SparkContext</b></p>\n",
              "\n",
              "            <p><a href=\"http://10.32.45.215:4041\">Spark UI</a></p>\n",
              "\n",
              "            <dl>\n",
              "              <dt>Version</dt>\n",
              "                <dd><code>v3.2.0</code></dd>\n",
              "              <dt>Master</dt>\n",
              "                <dd><code>local[*]</code></dd>\n",
              "              <dt>AppName</dt>\n",
              "                <dd><code>pyspark-shell</code></dd>\n",
              "            </dl>\n",
              "        </div>\n",
              "        "
            ],
            "text/plain": [
              "<SparkContext master=local[*] appName=pyspark-shell>"
            ]
          },
          "execution_count": 5,
          "metadata": {},
          "output_type": "execute_result"
        }
      ],
      "source": [
        "# sc = spark.sparkContext\n",
        "\n",
        "sc = SparkContext.getOrCreate()\n",
        "sc\n"
      ]
    },
    {
      "cell_type": "markdown",
      "metadata": {
        "id": "rq9B5qSYktPS"
      },
      "source": [
        "# API"
      ]
    },
    {
      "cell_type": "code",
      "execution_count": 6,
      "metadata": {
        "colab": {
          "base_uri": "https://localhost:8080/"
        },
        "id": "owV9XlGNkpMh",
        "outputId": "2997c760-6e32-41e8-823a-6a8fc4872ca0"
      },
      "outputs": [
        {
          "name": "stdout",
          "output_type": "stream",
          "text": [
            "10\n"
          ]
        }
      ],
      "source": [
        "# creates a RDD with 10 partitions\n",
        "count = sc.parallelize(range(0, 1000), 10)\n",
        "\n",
        "# get the number of partitions\n",
        "print(count.getNumPartitions())\n",
        "\n",
        "# \n",
        "\n"
      ]
    },
    {
      "cell_type": "markdown",
      "metadata": {
        "id": "h_1drSJ0kpfk"
      },
      "source": [
        "# Examples\n"
      ]
    },
    {
      "cell_type": "code",
      "execution_count": 7,
      "metadata": {
        "colab": {
          "base_uri": "https://localhost:8080/"
        },
        "id": "kiD3Qz3xjQsH",
        "outputId": "7832cf78-15da-46e5-e878-b7b57f58d65b"
      },
      "outputs": [
        {
          "name": "stderr",
          "output_type": "stream",
          "text": [
            "[Stage 0:>                                                        (0 + 10) / 10]\r"
          ]
        },
        {
          "name": "stdout",
          "output_type": "stream",
          "text": [
            "Pi is roughly 3.142372\n",
            "CPU times: user 9.56 ms, sys: 937 µs, total: 10.5 ms\n",
            "Wall time: 1.61 s\n"
          ]
        },
        {
          "name": "stderr",
          "output_type": "stream",
          "text": [
            "                                                                                \r"
          ]
        }
      ],
      "source": [
        "%%time\n",
        "\n",
        "# Compute value of PI using Monte Carlo Approach\n",
        "# Source: http://spark.apache.org/examples.html\n",
        "NUM_SAMPLES = 10000000\n",
        "\n",
        "def inside(p):\n",
        "    x, y = random.random(), random.random()\n",
        "    return x*x + y*y < 1\n",
        "\n",
        "# filter: http://spark.apache.org/docs/latest/api/python/pyspark.html\n",
        "count = sc.parallelize(range(0, NUM_SAMPLES), 10) \\\n",
        "             .filter(inside).count()\n",
        "\n",
        "print(\"Pi is roughly %f\" % (4.0 * count / NUM_SAMPLES))\n"
      ]
    },
    {
      "cell_type": "code",
      "execution_count": null,
      "metadata": {
        "id": "xcc9zH3Xt3KR"
      },
      "outputs": [],
      "source": []
    },
    {
      "cell_type": "code",
      "execution_count": null,
      "metadata": {
        "id": "8ik0PojRt3MX"
      },
      "outputs": [],
      "source": []
    },
    {
      "cell_type": "code",
      "execution_count": null,
      "metadata": {
        "id": "qBXjK9tLt3PO"
      },
      "outputs": [],
      "source": []
    },
    {
      "cell_type": "code",
      "execution_count": null,
      "metadata": {
        "id": "UgE3Dc8Ht3Ro"
      },
      "outputs": [],
      "source": []
    },
    {
      "cell_type": "code",
      "execution_count": null,
      "metadata": {
        "colab": {
          "base_uri": "https://localhost:8080/"
        },
        "id": "xkM9Jnjylzw8",
        "outputId": "589258b2-de4a-44fc-bddf-fc45c85149af"
      },
      "outputs": [
        {
          "name": "stdout",
          "output_type": "stream",
          "text": [
            "You have 2 CPUs\n",
            "3.1410612\n",
            "CPU times: user 58.3 ms, sys: 31.6 ms, total: 89.9 ms\n",
            "Wall time: 4.41 s\n"
          ]
        }
      ],
      "source": [
        "%%time\n",
        "\n",
        "from multiprocessing import Pool\n",
        "\n",
        "import multiprocessing\n",
        "import random\n",
        "\n",
        "N = NUM_SAMPLES\n",
        "process_num = multiprocessing.cpu_count()\n",
        "print('You have {0:1d} CPUs'.format(process_num))\n",
        "\n",
        "def make_pi(end):\n",
        "    count_inbound = 0\n",
        "    for x in range(end):\n",
        "        the_x = random.random()\n",
        "        the_y = random.random()\n",
        "        if((the_x**2 + the_y**2) <= 1):\n",
        "            count_inbound += 1\n",
        "    return count_inbound\n",
        "\n",
        "if __name__ == \"__main__\":\n",
        "\n",
        "    # multiprocessing code\n",
        "    p = Pool(processes = process_num)\n",
        "    count_in = p.map(make_pi, [int(N/process_num) for x in range(process_num)])\n",
        "    print(4*sum(count_in)/N)\n",
        "\n",
        "    # normal code\n",
        "    # print(4*make_pi(N)/N)"
      ]
    },
    {
      "cell_type": "code",
      "execution_count": null,
      "metadata": {
        "id": "dNnNYTL-klEG"
      },
      "outputs": [],
      "source": []
    }
  ],
  "metadata": {
    "colab": {
      "collapsed_sections": [],
      "name": "Apache Spark Examples",
      "provenance": []
    },
    "interpreter": {
      "hash": "23290619d6f4f5ecea54fd3814d63b8a6a2d2c019f5870989b08cbcfb848aa36"
    },
    "kernelspec": {
      "display_name": "Python 3.9.10 ('spark-ml-training-Z1-rjbZ7-py3.9')",
      "language": "python",
      "name": "python3"
    },
    "language_info": {
      "codemirror_mode": {
        "name": "ipython",
        "version": 3
      },
      "file_extension": ".py",
      "mimetype": "text/x-python",
      "name": "python",
      "nbconvert_exporter": "python",
      "pygments_lexer": "ipython3",
      "version": "3.9.10"
    }
  },
  "nbformat": 4,
  "nbformat_minor": 0
}
